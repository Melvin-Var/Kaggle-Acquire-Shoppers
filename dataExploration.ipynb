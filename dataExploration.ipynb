{
 "cells": [
  {
   "cell_type": "markdown",
   "metadata": {},
   "source": [
    "## 1. Accessing the AcquireShoppers Database\n",
    "\n",
    "Before we can start our data exploration, we need to be able to connect to the *AcquireShoppers* database from the *R* command line. To start, make sure that you install the *RMySQL* package and load it onto the *R* workspace. Once, that is done, we can setup a connection to the MySQL server (i.e. locally-hosted on your laptop!)."
   ]
  },
  {
   "cell_type": "code",
   "execution_count": 96,
   "metadata": {
    "collapsed": false
   },
   "outputs": [],
   "source": [
    "library(RMySQL)\n",
    "con <- dbConnect(MySQL(), user = 'root', password = 'root', host = 'localhost', dbname = 'AcquireShoppers')"
   ]
  },
  {
   "cell_type": "markdown",
   "metadata": {},
   "source": [
    "The database contains a smaller, down-sampled version of the *transactions*, *trainHistory* and *testHistory* tables. These tables are sufficiently small, that it is feasible to perform joins on these tables and still store them in memory.\n",
    "\n",
    "In order to facilitate fast analysis, we wish to index some of the critical fields of the transactions table. This table is by far the largest table, so indexing the right columns will significantly speed up future analysis. The competition states that the *transactions* table can be joined to *trainHistory* and *testHistory* using *(id, chain)*. We thus choose to index these fields for the tables *transactions*, *trainHistory* and *testHistory*.\n",
    "\n",
    "In addition the Kaggle benchmarks use the *brand*, *company* and *category* fields. Hence these fields seem important and we also choose to index them. **The following commands will also take significantly long to run.**"
   ]
  },
  {
   "cell_type": "markdown",
   "metadata": {},
   "source": [
    "We can check if we have successfully established a connection to the *AcquireShoppers* database by loading the smallest table: *offers*."
   ]
  },
  {
   "cell_type": "code",
   "execution_count": 97,
   "metadata": {
    "collapsed": false
   },
   "outputs": [
    {
     "data": {
      "text/html": [
       "<table>\n",
       "<thead><tr><th scope=col>offer</th><th scope=col>category</th><th scope=col>quantity</th><th scope=col>company</th><th scope=col>offervalue</th><th scope=col>brand</th></tr></thead>\n",
       "<tbody>\n",
       "\t<tr><td>1190530  </td><td>9115     </td><td>1        </td><td>108500080</td><td>5.00     </td><td>93904    </td></tr>\n",
       "\t<tr><td>1194044  </td><td>9909     </td><td>1        </td><td>107127979</td><td>1.00     </td><td> 6732    </td></tr>\n",
       "\t<tr><td>1197502  </td><td>3203     </td><td>1        </td><td>106414464</td><td>0.75     </td><td>13474    </td></tr>\n",
       "\t<tr><td>1198271  </td><td>5558     </td><td>1        </td><td>107120272</td><td>1.50     </td><td> 5072    </td></tr>\n",
       "\t<tr><td>1198272  </td><td>5558     </td><td>1        </td><td>107120272</td><td>1.50     </td><td> 5072    </td></tr>\n",
       "\t<tr><td>1198273  </td><td>5558     </td><td>1        </td><td>107120272</td><td>1.50     </td><td> 5072    </td></tr>\n",
       "</tbody>\n",
       "</table>\n"
      ],
      "text/latex": [
       "\\begin{tabular}{r|llllll}\n",
       " offer & category & quantity & company & offervalue & brand\\\\\n",
       "\\hline\n",
       "\t 1190530   & 9115      & 1         & 108500080 & 5.00      & 93904    \\\\\n",
       "\t 1194044   & 9909      & 1         & 107127979 & 1.00      &  6732    \\\\\n",
       "\t 1197502   & 3203      & 1         & 106414464 & 0.75      & 13474    \\\\\n",
       "\t 1198271   & 5558      & 1         & 107120272 & 1.50      &  5072    \\\\\n",
       "\t 1198272   & 5558      & 1         & 107120272 & 1.50      &  5072    \\\\\n",
       "\t 1198273   & 5558      & 1         & 107120272 & 1.50      &  5072    \\\\\n",
       "\\end{tabular}\n"
      ],
      "text/plain": [
       "  offer   category quantity company   offervalue brand\n",
       "1 1190530 9115     1        108500080 5.00       93904\n",
       "2 1194044 9909     1        107127979 1.00        6732\n",
       "3 1197502 3203     1        106414464 0.75       13474\n",
       "4 1198271 5558     1        107120272 1.50        5072\n",
       "5 1198272 5558     1        107120272 1.50        5072\n",
       "6 1198273 5558     1        107120272 1.50        5072"
      ]
     },
     "metadata": {},
     "output_type": "display_data"
    }
   ],
   "source": [
    "offers <- dbReadTable(conn = con, name = 'offers')\n",
    "head(offers)"
   ]
  },
  {
   "cell_type": "markdown",
   "metadata": {},
   "source": [
    "Success! As this analysis is exploratory, we can choose to focus on the sampled versions of the tables created within the *databaseSetup.ipynb* script: *testHistorySmall*, *trainHistorySmall* and *transactionsSmall*. These down-sampled files are only ~2GB and so should fit within the memory of most modern laptops.\n",
    "\n",
    "To get the best possible score on the Kaggle challenge, we will later need to use the full dataset, but let's for now just focus on the down-sampled version. We stary by loading the down-sampled tables into memory."
   ]
  },
  {
   "cell_type": "code",
   "execution_count": 98,
   "metadata": {
    "collapsed": false
   },
   "outputs": [
    {
     "name": "stdout",
     "output_type": "stream",
     "text": [
      "[1] \"testHistory table\"\n"
     ]
    },
    {
     "data": {
      "text/html": [
       "<table>\n",
       "<thead><tr><th scope=col>Id</th><th scope=col>chain</th><th scope=col>offer</th><th scope=col>market</th><th scope=col>offerdate</th></tr></thead>\n",
       "<tbody>\n",
       "\t<tr><td>12524696  </td><td> 4        </td><td>1221665   </td><td> 1        </td><td>2013-06-20</td></tr>\n",
       "\t<tr><td>15417308  </td><td>95        </td><td>1213242   </td><td>39        </td><td>2013-05-22</td></tr>\n",
       "\t<tr><td>19166969  </td><td>18        </td><td>1221658   </td><td>11        </td><td>2013-06-20</td></tr>\n",
       "\t<tr><td>51472749  </td><td>17        </td><td>1221663   </td><td> 4        </td><td>2013-06-20</td></tr>\n",
       "\t<tr><td>52015552  </td><td>18        </td><td>1221658   </td><td>11        </td><td>2013-06-22</td></tr>\n",
       "\t<tr><td>52584180  </td><td>18        </td><td>1221663   </td><td>11        </td><td>2013-06-22</td></tr>\n",
       "</tbody>\n",
       "</table>\n"
      ],
      "text/latex": [
       "\\begin{tabular}{r|lllll}\n",
       " Id & chain & offer & market & offerdate\\\\\n",
       "\\hline\n",
       "\t 12524696   &  4         & 1221665    &  1         & 2013-06-20\\\\\n",
       "\t 15417308   & 95         & 1213242    & 39         & 2013-05-22\\\\\n",
       "\t 19166969   & 18         & 1221658    & 11         & 2013-06-20\\\\\n",
       "\t 51472749   & 17         & 1221663    &  4         & 2013-06-20\\\\\n",
       "\t 52015552   & 18         & 1221658    & 11         & 2013-06-22\\\\\n",
       "\t 52584180   & 18         & 1221663    & 11         & 2013-06-22\\\\\n",
       "\\end{tabular}\n"
      ],
      "text/plain": [
       "  Id       chain offer   market offerdate \n",
       "1 12524696  4    1221665  1     2013-06-20\n",
       "2 15417308 95    1213242 39     2013-05-22\n",
       "3 19166969 18    1221658 11     2013-06-20\n",
       "4 51472749 17    1221663  4     2013-06-20\n",
       "5 52015552 18    1221658 11     2013-06-22\n",
       "6 52584180 18    1221663 11     2013-06-22"
      ]
     },
     "metadata": {},
     "output_type": "display_data"
    },
    {
     "name": "stdout",
     "output_type": "stream",
     "text": [
      "[1] \"trainHistory table\"\n"
     ]
    },
    {
     "data": {
      "text/html": [
       "<table>\n",
       "<thead><tr><th scope=col>Id</th><th scope=col>chain</th><th scope=col>offer</th><th scope=col>market</th><th scope=col>repeattrips</th><th scope=col>repeater</th><th scope=col>offerdate</th></tr></thead>\n",
       "<tbody>\n",
       "\t<tr><td>50622160  </td><td>18        </td><td>1197502   </td><td>11        </td><td>0         </td><td>f         </td><td>2013-03-31</td></tr>\n",
       "\t<tr><td>50808053  </td><td> 3        </td><td>1197502   </td><td> 2        </td><td>0         </td><td>f         </td><td>2013-04-02</td></tr>\n",
       "\t<tr><td>51150009  </td><td> 4        </td><td>1197502   </td><td> 1        </td><td>0         </td><td>f         </td><td>2013-03-25</td></tr>\n",
       "\t<tr><td>59067761  </td><td>95        </td><td>1204822   </td><td>39        </td><td>0         </td><td>f         </td><td>2013-04-19</td></tr>\n",
       "\t<tr><td>66507967  </td><td>88        </td><td>1197502   </td><td>14        </td><td>0         </td><td>f         </td><td>2013-03-25</td></tr>\n",
       "\t<tr><td>70217582  </td><td>15        </td><td>1204822   </td><td> 9        </td><td>0         </td><td>f         </td><td>2013-04-23</td></tr>\n",
       "</tbody>\n",
       "</table>\n"
      ],
      "text/latex": [
       "\\begin{tabular}{r|lllllll}\n",
       " Id & chain & offer & market & repeattrips & repeater & offerdate\\\\\n",
       "\\hline\n",
       "\t 50622160   & 18         & 1197502    & 11         & 0          & f          & 2013-03-31\\\\\n",
       "\t 50808053   &  3         & 1197502    &  2         & 0          & f          & 2013-04-02\\\\\n",
       "\t 51150009   &  4         & 1197502    &  1         & 0          & f          & 2013-03-25\\\\\n",
       "\t 59067761   & 95         & 1204822    & 39         & 0          & f          & 2013-04-19\\\\\n",
       "\t 66507967   & 88         & 1197502    & 14         & 0          & f          & 2013-03-25\\\\\n",
       "\t 70217582   & 15         & 1204822    &  9         & 0          & f          & 2013-04-23\\\\\n",
       "\\end{tabular}\n"
      ],
      "text/plain": [
       "  Id       chain offer   market repeattrips repeater offerdate \n",
       "1 50622160 18    1197502 11     0           f        2013-03-31\n",
       "2 50808053  3    1197502  2     0           f        2013-04-02\n",
       "3 51150009  4    1197502  1     0           f        2013-03-25\n",
       "4 59067761 95    1204822 39     0           f        2013-04-19\n",
       "5 66507967 88    1197502 14     0           f        2013-03-25\n",
       "6 70217582 15    1204822  9     0           f        2013-04-23"
      ]
     },
     "metadata": {},
     "output_type": "display_data"
    },
    {
     "name": "stdout",
     "output_type": "stream",
     "text": [
      "[1] \"transactions table\"\n"
     ]
    },
    {
     "data": {
      "text/html": [
       "<table>\n",
       "<thead><tr><th scope=col>Id</th><th scope=col>chain</th><th scope=col>dept</th><th scope=col>category</th><th scope=col>company</th><th scope=col>brand</th><th scope=col>date</th><th scope=col>productsize</th><th scope=col>productmeasure</th><th scope=col>purchasequantity</th><th scope=col>purchaseamount</th></tr></thead>\n",
       "<tbody>\n",
       "\t<tr><td>50622160  </td><td>18        </td><td>26        </td><td>2622      </td><td> 102113020</td><td>15704     </td><td>2012-03-08</td><td>40        </td><td>CT        </td><td>1         </td><td>3.19      </td></tr>\n",
       "\t<tr><td>50622160  </td><td>18        </td><td> 2        </td><td> 202      </td><td> 101600010</td><td> 1756     </td><td>2012-03-08</td><td>18        </td><td>OZ        </td><td>2         </td><td>4.50      </td></tr>\n",
       "\t<tr><td>50622160  </td><td>18        </td><td>26        </td><td>2622      </td><td> 102113020</td><td>15704     </td><td>2012-03-08</td><td>30        </td><td>CT        </td><td>1         </td><td>3.19      </td></tr>\n",
       "\t<tr><td>50622160  </td><td>18        </td><td>27        </td><td>2704      </td><td> 107910070</td><td>30096     </td><td>2012-03-08</td><td>24        </td><td>OZ        </td><td>1         </td><td>4.99      </td></tr>\n",
       "\t<tr><td>50622160  </td><td>18        </td><td>25        </td><td>2506      </td><td> 102113020</td><td>10786     </td><td>2012-03-08</td><td>32        </td><td>OZ        </td><td>1         </td><td>2.30      </td></tr>\n",
       "\t<tr><td>50622160  </td><td>18        </td><td>37        </td><td>3708      </td><td>1076026373</td><td> 1537     </td><td>2012-03-08</td><td>12        </td><td>OZ        </td><td>1         </td><td>4.49      </td></tr>\n",
       "</tbody>\n",
       "</table>\n"
      ],
      "text/latex": [
       "\\begin{tabular}{r|lllllllllll}\n",
       " Id & chain & dept & category & company & brand & date & productsize & productmeasure & purchasequantity & purchaseamount\\\\\n",
       "\\hline\n",
       "\t 50622160   & 18         & 26         & 2622       &  102113020 & 15704      & 2012-03-08 & 40         & CT         & 1          & 3.19      \\\\\n",
       "\t 50622160   & 18         &  2         &  202       &  101600010 &  1756      & 2012-03-08 & 18         & OZ         & 2          & 4.50      \\\\\n",
       "\t 50622160   & 18         & 26         & 2622       &  102113020 & 15704      & 2012-03-08 & 30         & CT         & 1          & 3.19      \\\\\n",
       "\t 50622160   & 18         & 27         & 2704       &  107910070 & 30096      & 2012-03-08 & 24         & OZ         & 1          & 4.99      \\\\\n",
       "\t 50622160   & 18         & 25         & 2506       &  102113020 & 10786      & 2012-03-08 & 32         & OZ         & 1          & 2.30      \\\\\n",
       "\t 50622160   & 18         & 37         & 3708       & 1076026373 &  1537      & 2012-03-08 & 12         & OZ         & 1          & 4.49      \\\\\n",
       "\\end{tabular}\n"
      ],
      "text/plain": [
       "  Id       chain dept category company    brand date       productsize\n",
       "1 50622160 18    26   2622      102113020 15704 2012-03-08 40         \n",
       "2 50622160 18     2    202      101600010  1756 2012-03-08 18         \n",
       "3 50622160 18    26   2622      102113020 15704 2012-03-08 30         \n",
       "4 50622160 18    27   2704      107910070 30096 2012-03-08 24         \n",
       "5 50622160 18    25   2506      102113020 10786 2012-03-08 32         \n",
       "6 50622160 18    37   3708     1076026373  1537 2012-03-08 12         \n",
       "  productmeasure purchasequantity purchaseamount\n",
       "1 CT             1                3.19          \n",
       "2 OZ             2                4.50          \n",
       "3 CT             1                3.19          \n",
       "4 OZ             1                4.99          \n",
       "5 OZ             1                2.30          \n",
       "6 OZ             1                4.49          "
      ]
     },
     "metadata": {},
     "output_type": "display_data"
    }
   ],
   "source": [
    "testHistory <- dbReadTable(conn = con, name = 'testHistorySmall')\n",
    "testHistory$offerdate <- as.Date(testHistory$offerdate)\n",
    "print('testHistory table')\n",
    "head(testHistory)\n",
    "trainHistory <- dbReadTable(conn = con, name = 'trainHistorySmall')\n",
    "trainHistory$offerdate <- as.Date(trainHistory$offerdate)\n",
    "print('trainHistory table')\n",
    "head(trainHistory)\n",
    "transactions <- dbReadTable(conn = con, name = 'transactionsSmall')\n",
    "transactions$date <- as.Date(transactions$date)\n",
    "print('transactions table')\n",
    "head(transactions)"
   ]
  },
  {
   "cell_type": "markdown",
   "metadata": {},
   "source": [
    "In *databaseSetup.ipynb*, we saw that tables *offers*, *testHistory* and *trainHistory* had the fields *offer*, *id* and *id* respectively as their primary keys. Furthermore *offer* served as a foreign key in both *trainHistory* and *testHistory* whilst *id* was a foreign key (now shown as *Id*) within *transactions*. The diagram below summarizes these relationships:\n",
    "<img src=\"files/databases.png\">"
   ]
  },
  {
   "cell_type": "markdown",
   "metadata": {},
   "source": [
    "Apart from these keys, we need to get an understanding of what the other fields mean. We undertake this via data exploration.\n",
    "\n",
    "## 2. Understanding each table\n",
    "\n",
    "We start by checking the number of NaNs and NAs within each table:"
   ]
  },
  {
   "cell_type": "code",
   "execution_count": 26,
   "metadata": {
    "collapsed": false
   },
   "outputs": [
    {
     "name": "stdout",
     "output_type": "stream",
     "text": [
      "[1] \"Number of NaNs within offers: \"\n",
      "[1] 0\n",
      "[1] \"Number of NaNs within testHistory: \"\n",
      "[1] 0\n",
      "[1] \"Number of NaNs within trainHistory: \"\n",
      "[1] 0\n",
      "[1] \"Number of NaNs within transactions: \"\n",
      "[1] 0\n"
     ]
    }
   ],
   "source": [
    "print(\"Number of NaNs within offers: \")\n",
    "print(sum(sapply(1:ncol(offers), function(x) sum(is.nan(offers[1:nrow(offers), x])))))\n",
    "print(\"Number of NaNs within testHistory: \")\n",
    "print(sum(sapply(1:ncol(testHistory), function(x) sum(is.nan(testHistory[1:nrow(testHistory), x])))))\n",
    "print(\"Number of NaNs within trainHistory: \")\n",
    "print(sum(sapply(1:ncol(trainHistory), function(x) sum(is.nan(trainHistory[1:nrow(trainHistory), x])))))\n",
    "print(\"Number of NaNs within transactions: \")\n",
    "print(sum(sapply(1:ncol(transactions), function(x) sum(is.nan(transactions[1:nrow(transactions), x])))))"
   ]
  },
  {
   "cell_type": "code",
   "execution_count": 27,
   "metadata": {
    "collapsed": false
   },
   "outputs": [
    {
     "name": "stdout",
     "output_type": "stream",
     "text": [
      "[1] \"Number of NAs within offers: \"\n",
      "[1] 0\n",
      "[1] \"Number of NAs within testHistory: \"\n",
      "[1] 0\n",
      "[1] \"Number of NAs within trainHistory: \"\n",
      "[1] 0\n",
      "[1] \"Number of NAs within transactions: \"\n",
      "[1] 0\n"
     ]
    }
   ],
   "source": [
    "print(\"Number of NAs within offers: \")\n",
    "print(sum(sapply(1:ncol(offers), function(x) sum(is.na(offers[1:nrow(offers), x])))))\n",
    "print(\"Number of NAs within testHistory: \")\n",
    "print(sum(sapply(1:ncol(testHistory), function(x) sum(is.na(testHistory[1:nrow(testHistory), x])))))\n",
    "print(\"Number of NAs within trainHistory: \")\n",
    "print(sum(sapply(1:ncol(trainHistory), function(x) sum(is.na(trainHistory[1:nrow(trainHistory), x])))))\n",
    "print(\"Number of NAs within transactions: \")\n",
    "print(sum(sapply(1:ncol(transactions), function(x) sum(is.na(transactions[1:nrow(transactions), x])))))"
   ]
  },
  {
   "cell_type": "markdown",
   "metadata": {},
   "source": [
    "Luckily, we find that there are no missing values within any of the tables. Let's examine each table more closely\n",
    "\n",
    "### 2.1. The Offers Table\n",
    "\n",
    "The *offers* table has the fields *category*, *quantity*, *company*, *offervalue* and *brand*. The fields *quantity* and *offervalue* are unique to the table *offers*. In order to gauge an understanding of these two fields, let's first see how many distinct values they each have. **Notice that *category*, *company* and *brand* also appear in the transactions table!**"
   ]
  },
  {
   "cell_type": "code",
   "execution_count": 33,
   "metadata": {
    "collapsed": false
   },
   "outputs": [
    {
     "name": "stdout",
     "output_type": "stream",
     "text": [
      "[1] \"Table of offervalue field\"\n"
     ]
    },
    {
     "data": {
      "text/plain": [
       "\n",
       "0.75    1 1.25  1.5    2    3    5 \n",
       "   1    5    3   19    6    2    1 "
      ]
     },
     "metadata": {},
     "output_type": "display_data"
    }
   ],
   "source": [
    "print(\"Table of offervalue field\")\n",
    "table(as.factor(offers$offervalue))"
   ]
  },
  {
   "cell_type": "code",
   "execution_count": 32,
   "metadata": {
    "collapsed": false
   },
   "outputs": [
    {
     "name": "stdout",
     "output_type": "stream",
     "text": [
      "[1] \"Table of quantity field\"\n"
     ]
    },
    {
     "data": {
      "text/plain": [
       "\n",
       " 1  2 \n",
       "36  1 "
      ]
     },
     "metadata": {},
     "output_type": "display_data"
    }
   ],
   "source": [
    "print(\"Table of quantity field\")\n",
    "table(as.factor(offers$quantity))"
   ]
  },
  {
   "cell_type": "markdown",
   "metadata": {},
   "source": [
    "The *quantity* field is - with one exception - always equal to one. Let's find the row the quantity of 2 corresponds to."
   ]
  },
  {
   "cell_type": "code",
   "execution_count": 35,
   "metadata": {
    "collapsed": false
   },
   "outputs": [
    {
     "data": {
      "text/html": [
       "<table>\n",
       "<thead><tr><th></th><th scope=col>offer</th><th scope=col>category</th><th scope=col>quantity</th><th scope=col>company</th><th scope=col>offervalue</th><th scope=col>brand</th></tr></thead>\n",
       "<tbody>\n",
       "\t<tr><th scope=row>32</th><td>1221658  </td><td>7205     </td><td>2        </td><td>103700030</td><td>3        </td><td>4294     </td></tr>\n",
       "</tbody>\n",
       "</table>\n"
      ],
      "text/latex": [
       "\\begin{tabular}{r|llllll}\n",
       "  & offer & category & quantity & company & offervalue & brand\\\\\n",
       "\\hline\n",
       "\t32 & 1221658   & 7205      & 2         & 103700030 & 3         & 4294     \\\\\n",
       "\\end{tabular}\n"
      ],
      "text/plain": [
       "   offer   category quantity company   offervalue brand\n",
       "32 1221658 7205     2        103700030 3          4294 "
      ]
     },
     "metadata": {},
     "output_type": "display_data"
    }
   ],
   "source": [
    "offers[offers$quantity == 2, ]"
   ]
  },
  {
   "cell_type": "markdown",
   "metadata": {},
   "source": [
    "Does the fact that this is the only coupon that offers 2 of a product make shoppers offered this coupon more likely to buy the product?"
   ]
  },
  {
   "cell_type": "code",
   "execution_count": 47,
   "metadata": {
    "collapsed": false
   },
   "outputs": [
    {
     "name": "stdout",
     "output_type": "stream",
     "text": [
      "[1] \"Proportion of 'Quantity-2' coupoun is trainHistory:\"\n"
     ]
    },
    {
     "data": {
      "text/html": [
       "0"
      ],
      "text/latex": [
       "0"
      ],
      "text/markdown": [
       "0"
      ],
      "text/plain": [
       "[1] 0"
      ]
     },
     "metadata": {},
     "output_type": "display_data"
    },
    {
     "name": "stdout",
     "output_type": "stream",
     "text": [
      "[1] \"Proportion of 'Quantity-2' coupoun is testHistory:\"\n"
     ]
    },
    {
     "data": {
      "text/html": [
       "0.209393611261505"
      ],
      "text/latex": [
       "0.209393611261505"
      ],
      "text/markdown": [
       "0.209393611261505"
      ],
      "text/plain": [
       "[1] 0.2093936"
      ]
     },
     "metadata": {},
     "output_type": "display_data"
    }
   ],
   "source": [
    "print(\"Proportion of \\'Quantity-2\\' coupoun is trainHistory:\")\n",
    "sum(trainHistory$offer == 1221658) / nrow(trainHistory)\n",
    "print(\"Proportion of \\'Quantity-2\\' coupoun is testHistory:\")\n",
    "sum(testHistory$offer == 1221658) / nrow(testHistory)"
   ]
  },
  {
   "cell_type": "markdown",
   "metadata": {},
   "source": [
    "The 'Quantity-2' coupon is never offered to the Shoppers in the training set but it is offered to 20.9% of Shoppers in the test set! This raises the question of how different the coupon offers are between the training and test set."
   ]
  },
  {
   "cell_type": "code",
   "execution_count": 78,
   "metadata": {
    "collapsed": false
   },
   "outputs": [
    {
     "name": "stdout",
     "output_type": "stream",
     "text": [
      "[1] \"train     test\"\n",
      "      [,1]        [,2]         [,3]\n",
      " [1,]    1 0.000000000 0.0132647537\n",
      " [2,]    2 0.041025641 0.0000000000\n",
      " [3,]    3 0.286153846 0.0000000000\n",
      " [4,]    4 0.007051282 0.0005414185\n",
      " [5,]    5 0.012179487 0.0012181917\n",
      " [6,]    6 0.008076923 0.0002707093\n",
      " [7,]    7 0.006410256 0.0018949648\n",
      " [8,]    8 0.012948718 0.0008121278\n",
      " [9,]    9 0.050256410 0.0000000000\n",
      "[10,]   10 0.045384615 0.0000000000\n",
      "[11,]   11 0.019871795 0.0000000000\n",
      "[12,]   12 0.008076923 0.0000000000\n",
      "[13,]   13 0.029871795 0.0059556037\n",
      "[14,]   14 0.009871795 0.0043313481\n",
      "[15,]   15 0.001025641 0.0009474824\n",
      "[16,]   16 0.008974359 0.0000000000\n",
      "[17,]   17 0.090128205 0.0000000000\n",
      "[18,]   18 0.000000000 0.0851380617\n",
      "[19,]   19 0.045641026 0.0040606389\n",
      "[20,]   20 0.014871795 0.0004060639\n",
      "[21,]   21 0.015000000 0.0001353546\n",
      "[22,]   22 0.093974359 0.0033838657\n",
      "[23,]   23 0.020641026 0.0008121278\n",
      "[24,]   24 0.117179487 0.0028424472\n",
      "[25,]   25 0.041794872 0.0048727666\n",
      "[26,]   26 0.013589744 0.0047374120\n",
      "[27,]   27 0.000000000 0.0212506768\n",
      "[28,]   28 0.000000000 0.0132647537\n",
      "[29,]   29 0.000000000 0.0135354629\n",
      "[30,]   30 0.000000000 0.0343800758\n",
      "[31,]   31 0.000000000 0.0527883054\n",
      "[32,]   32 0.000000000 0.2093936113\n",
      "[33,]   33 0.000000000 0.2953438008\n",
      "[34,]   34 0.000000000 0.0307255008\n",
      "[35,]   35 0.000000000 0.0219274499\n",
      "[36,]   36 0.000000000 0.0200324851\n",
      "[37,]   37 0.000000000 0.1517325393\n",
      "[1] \"\"\n",
      "[1] \"Proportion of Train Shoppers offered Coupons that are NEVER offered to Test Shoppers:\"\n"
     ]
    },
    {
     "data": {
      "text/html": [
       "0.549871794871795"
      ],
      "text/latex": [
       "0.549871794871795"
      ],
      "text/markdown": [
       "0.549871794871795"
      ],
      "text/plain": [
       "[1] 0.5498718"
      ]
     },
     "metadata": {},
     "output_type": "display_data"
    },
    {
     "name": "stdout",
     "output_type": "stream",
     "text": [
      "[1] \"Proportion of Test Shoppers offered Coupons that are NEVER offered to Train Shoppers:\"\n"
     ]
    },
    {
     "data": {
      "text/html": [
       "0.962777476989713"
      ],
      "text/latex": [
       "0.962777476989713"
      ],
      "text/markdown": [
       "0.962777476989713"
      ],
      "text/plain": [
       "[1] 0.9627775"
      ]
     },
     "metadata": {},
     "output_type": "display_data"
    }
   ],
   "source": [
    "print(\"train     test\")\n",
    "props <- t(sapply(1:nrow(offers), function(x) c(x, sum(trainHistory$offer == offers[x, 1]) / nrow(trainHistory), sum(testHistory$offer == offers[x, 1]) / nrow(testHistory))))\n",
    "print(props)\n",
    "print(\"\")\n",
    "print(\"Proportion of Train Shoppers offered Coupons that are NEVER offered to Test Shoppers:\")\n",
    "sum(props[props[, 3] == 0, 2])\n",
    "print(\"Proportion of Test Shoppers offered Coupons that are NEVER offered to Train Shoppers:\")\n",
    "sum(props[props[, 2] == 0, 3])"
   ]
  },
  {
   "cell_type": "markdown",
   "metadata": {},
   "source": [
    "**Virtually none of the Test Shoppers are offered a coupon that is also offered to any of the Shoppers in the Training set!** Hopefully, there is more of an overlap in the test and training shoppers with the categories, companies and brands."
   ]
  },
  {
   "cell_type": "code",
   "execution_count": 77,
   "metadata": {
    "collapsed": false
   },
   "outputs": [
    {
     "data": {
      "text/html": [
       "20"
      ],
      "text/latex": [
       "20"
      ],
      "text/markdown": [
       "20"
      ],
      "text/plain": [
       "[1] 20"
      ]
     },
     "metadata": {},
     "output_type": "display_data"
    },
    {
     "data": {
      "text/html": [
       "18"
      ],
      "text/latex": [
       "18"
      ],
      "text/markdown": [
       "18"
      ],
      "text/plain": [
       "[1] 18"
      ]
     },
     "metadata": {},
     "output_type": "display_data"
    },
    {
     "data": {
      "text/html": [
       "19"
      ],
      "text/latex": [
       "19"
      ],
      "text/markdown": [
       "19"
      ],
      "text/plain": [
       "[1] 19"
      ]
     },
     "metadata": {},
     "output_type": "display_data"
    }
   ],
   "source": [
    "length(table(as.factor(offers$category)))\n",
    "length(table(as.factor(offers$company)))\n",
    "length(table(as.factor(offers$brand)))"
   ]
  },
  {
   "cell_type": "code",
   "execution_count": 79,
   "metadata": {
    "collapsed": false
   },
   "outputs": [
    {
     "data": {
      "text/html": [
       "829"
      ],
      "text/latex": [
       "829"
      ],
      "text/markdown": [
       "829"
      ],
      "text/plain": [
       "[1] 829"
      ]
     },
     "metadata": {},
     "output_type": "display_data"
    },
    {
     "data": {
      "text/html": [
       "21840"
      ],
      "text/latex": [
       "21840"
      ],
      "text/markdown": [
       "21840"
      ],
      "text/plain": [
       "[1] 21840"
      ]
     },
     "metadata": {},
     "output_type": "display_data"
    },
    {
     "data": {
      "text/html": [
       "22631"
      ],
      "text/latex": [
       "22631"
      ],
      "text/markdown": [
       "22631"
      ],
      "text/plain": [
       "[1] 22631"
      ]
     },
     "metadata": {},
     "output_type": "display_data"
    }
   ],
   "source": [
    "length(table(as.factor(transactions$category)))\n",
    "length(table(as.factor(transactions$company)))\n",
    "length(table(as.factor(transactions$brand)))"
   ]
  },
  {
   "cell_type": "code",
   "execution_count": 93,
   "metadata": {
    "collapsed": false
   },
   "outputs": [
    {
     "data": {
      "text/plain": [
       "[1] \"2012-03-08\" \"2012-03-08\" \"2012-03-08\" \"2012-03-08\" \"2012-03-08\"\n",
       "[6] \"2012-03-08\""
      ]
     },
     "metadata": {},
     "output_type": "display_data"
    }
   ],
   "source": [
    "head(as.Date(transactions$date))"
   ]
  },
  {
   "cell_type": "code",
   "execution_count": 84,
   "metadata": {
    "collapsed": false
   },
   "outputs": [
    {
     "data": {
      "text/html": [
       "'NA'"
      ],
      "text/latex": [
       "'NA'"
      ],
      "text/markdown": [
       "'NA'"
      ],
      "text/plain": [
       "[1] NA"
      ]
     },
     "metadata": {},
     "output_type": "display_data"
    }
   ],
   "source": [
    "format(as.Date(tolower('2012-03-08'), format='%y-%m-%d'), format='%d/%m/%y')"
   ]
  },
  {
   "cell_type": "code",
   "execution_count": 88,
   "metadata": {
    "collapsed": false
   },
   "outputs": [
    {
     "data": {
      "text/plain": [
       "[1] NA"
      ]
     },
     "metadata": {},
     "output_type": "display_data"
    }
   ],
   "source": [
    "as.Date('2012-03-08', format='%y-%d-%m')"
   ]
  },
  {
   "cell_type": "code",
   "execution_count": 89,
   "metadata": {
    "collapsed": false
   },
   "outputs": [
    {
     "data": {
      "text/html": [
       "'character'"
      ],
      "text/latex": [
       "'character'"
      ],
      "text/markdown": [
       "'character'"
      ],
      "text/plain": [
       "[1] \"character\""
      ]
     },
     "metadata": {},
     "output_type": "display_data"
    }
   ],
   "source": [
    "typeof(transactions$date[1])"
   ]
  },
  {
   "cell_type": "code",
   "execution_count": 90,
   "metadata": {
    "collapsed": false
   },
   "outputs": [
    {
     "data": {
      "text/html": [
       "'2012-03-08'"
      ],
      "text/latex": [
       "'2012-03-08'"
      ],
      "text/markdown": [
       "'2012-03-08'"
      ],
      "text/plain": [
       "[1] \"2012-03-08\""
      ]
     },
     "metadata": {},
     "output_type": "display_data"
    }
   ],
   "source": [
    "transactions$date[1]"
   ]
  },
  {
   "cell_type": "code",
   "execution_count": 92,
   "metadata": {
    "collapsed": false
   },
   "outputs": [
    {
     "data": {
      "text/html": [
       "'double'"
      ],
      "text/latex": [
       "'double'"
      ],
      "text/markdown": [
       "'double'"
      ],
      "text/plain": [
       "[1] \"double\""
      ]
     },
     "metadata": {},
     "output_type": "display_data"
    }
   ],
   "source": [
    "typeof(as.Date('2012-03-08'))"
   ]
  },
  {
   "cell_type": "code",
   "execution_count": 101,
   "metadata": {
    "collapsed": false
   },
   "outputs": [
    {
     "data": {
      "text/plain": [
       "[1] \"2012-03-02\" \"2013-07-28\""
      ]
     },
     "metadata": {},
     "output_type": "display_data"
    }
   ],
   "source": [
    "c(min(transactions$date[transactions$Id==]),max(transactions$date))"
   ]
  },
  {
   "cell_type": "code",
   "execution_count": 102,
   "metadata": {
    "collapsed": false
   },
   "outputs": [
    {
     "data": {
      "text/plain": [
       "[1] \"2013-03-01\" \"2013-04-30\""
      ]
     },
     "metadata": {},
     "output_type": "display_data"
    }
   ],
   "source": [
    "c(min(trainHistory$offerdate), max(trainHistory$offerdate))"
   ]
  },
  {
   "cell_type": "code",
   "execution_count": 112,
   "metadata": {
    "collapsed": false
   },
   "outputs": [
    {
     "data": {
      "text/plain": [
       "[1] \"2013-05-01\" \"2013-07-29\""
      ]
     },
     "metadata": {},
     "output_type": "display_data"
    }
   ],
   "source": [
    "c(min(testHistory$offerdate), max(testHistory$offerdate))"
   ]
  },
  {
   "cell_type": "code",
   "execution_count": 103,
   "metadata": {
    "collapsed": false
   },
   "outputs": [
    {
     "data": {
      "text/html": [
       "<table>\n",
       "<thead><tr><th scope=col>Id</th><th scope=col>chain</th><th scope=col>dept</th><th scope=col>category</th><th scope=col>company</th><th scope=col>brand</th><th scope=col>date</th><th scope=col>productsize</th><th scope=col>productmeasure</th><th scope=col>purchasequantity</th><th scope=col>purchaseamount</th></tr></thead>\n",
       "<tbody>\n",
       "\t<tr><td>50622160  </td><td>18        </td><td>26        </td><td>2622      </td><td> 102113020</td><td>15704     </td><td>2012-03-08</td><td> 40       </td><td>CT        </td><td> 1        </td><td> 3.19     </td></tr>\n",
       "\t<tr><td>50622160  </td><td>18        </td><td> 2        </td><td> 202      </td><td> 101600010</td><td> 1756     </td><td>2012-03-08</td><td> 18       </td><td>OZ        </td><td> 2        </td><td> 4.50     </td></tr>\n",
       "\t<tr><td>50622160  </td><td>18        </td><td>26        </td><td>2622      </td><td> 102113020</td><td>15704     </td><td>2012-03-08</td><td> 30       </td><td>CT        </td><td> 1        </td><td> 3.19     </td></tr>\n",
       "\t<tr><td>50622160  </td><td>18        </td><td>27        </td><td>2704      </td><td> 107910070</td><td>30096     </td><td>2012-03-08</td><td> 24       </td><td>OZ        </td><td> 1        </td><td> 4.99     </td></tr>\n",
       "\t<tr><td>50622160  </td><td>18        </td><td>25        </td><td>2506      </td><td> 102113020</td><td>10786     </td><td>2012-03-08</td><td> 32       </td><td>OZ        </td><td> 1        </td><td> 2.30     </td></tr>\n",
       "\t<tr><td>50622160  </td><td>18        </td><td>37        </td><td>3708      </td><td>1076026373</td><td> 1537     </td><td>2012-03-08</td><td> 12       </td><td>OZ        </td><td> 1        </td><td> 4.49     </td></tr>\n",
       "\t<tr><td>50622160  </td><td>18        </td><td>37        </td><td>3708      </td><td>1076026373</td><td> 1537     </td><td>2012-03-08</td><td>  9       </td><td>OZ        </td><td> 1        </td><td> 0.00     </td></tr>\n",
       "\t<tr><td>50622160  </td><td>18        </td><td> 5        </td><td> 519      </td><td> 103000030</td><td>14760     </td><td>2012-03-08</td><td> 15       </td><td>OZ        </td><td> 1        </td><td> 3.49     </td></tr>\n",
       "\t<tr><td>50622160  </td><td>18        </td><td> 9        </td><td> 907      </td><td> 102113020</td><td>15704     </td><td>2012-03-08</td><td> 24       </td><td>OZ        </td><td> 2        </td><td> 4.00     </td></tr>\n",
       "\t<tr><td>50622160  </td><td>18        </td><td>92        </td><td>9208      </td><td> 102764828</td><td> 7487     </td><td>2012-03-15</td><td>  1       </td><td>CT        </td><td> 1        </td><td> 3.49     </td></tr>\n",
       "\t<tr><td>50622160  </td><td>18        </td><td>92        </td><td>9208      </td><td> 101311414</td><td>  174     </td><td>2012-03-15</td><td>  1       </td><td>CT        </td><td> 1        </td><td> 2.49     </td></tr>\n",
       "\t<tr><td>50622160  </td><td>18        </td><td>26        </td><td>2634      </td><td> 103600030</td><td> 4139     </td><td>2012-03-15</td><td> 12       </td><td>RL        </td><td> 2        </td><td>12.98     </td></tr>\n",
       "\t<tr><td>50622160  </td><td>18        </td><td>95        </td><td>9518      </td><td>1061029060</td><td> 7848     </td><td>2012-03-15</td><td>  1       </td><td>CT        </td><td> 1        </td><td> 2.99     </td></tr>\n",
       "\t<tr><td>50622160  </td><td>18        </td><td>95        </td><td>9518      </td><td>1061029060</td><td> 6015     </td><td>2012-03-15</td><td>  1       </td><td>CT        </td><td> 1        </td><td> 2.99     </td></tr>\n",
       "\t<tr><td>50622160  </td><td>18        </td><td>69        </td><td>6901      </td><td> 101204414</td><td>13056     </td><td>2012-03-15</td><td>  3       </td><td>OZ        </td><td> 2        </td><td> 5.98     </td></tr>\n",
       "\t<tr><td>50622160  </td><td>18        </td><td>34        </td><td>3411      </td><td> 103700030</td><td>13056     </td><td>2012-03-15</td><td> 18       </td><td>OZ        </td><td> 1        </td><td> 3.49     </td></tr>\n",
       "\t<tr><td>50622160  </td><td>18        </td><td>26        </td><td>2632      </td><td> 103600030</td><td> 8583     </td><td>2012-03-15</td><td>216       </td><td>CT        </td><td> 1        </td><td> 6.99     </td></tr>\n",
       "\t<tr><td>50622160  </td><td>18        </td><td> 9        </td><td> 921      </td><td> 104500040</td><td> 8511     </td><td>2012-03-25</td><td>  5       </td><td>OZ        </td><td> 3        </td><td> 3.69     </td></tr>\n",
       "\t<tr><td>50622160  </td><td>18        </td><td>99        </td><td>9909      </td><td> 107127979</td><td> 6732     </td><td>2012-03-25</td><td> 12       </td><td>OZ        </td><td> 2        </td><td> 0.01     </td></tr>\n",
       "\t<tr><td>50622160  </td><td>18        </td><td>30        </td><td>3007      </td><td> 107766171</td><td>10562     </td><td>2012-03-25</td><td> 13       </td><td>OZ        </td><td> 2        </td><td> 6.30     </td></tr>\n",
       "\t<tr><td>50622160  </td><td>18        </td><td>25        </td><td>2506      </td><td> 105000050</td><td>32115     </td><td>2012-04-01</td><td> 32       </td><td>OZ        </td><td> 1        </td><td> 3.69     </td></tr>\n",
       "\t<tr><td>50622160  </td><td>18        </td><td> 9        </td><td> 922      </td><td> 104500040</td><td> 8511     </td><td>2012-04-01</td><td> 17       </td><td>OZ        </td><td> 2        </td><td> 5.98     </td></tr>\n",
       "\t<tr><td>50622160  </td><td>18        </td><td>57        </td><td>5705      </td><td> 107047070</td><td>20230     </td><td>2012-04-01</td><td>  6       </td><td>OZ        </td><td>10        </td><td> 6.00     </td></tr>\n",
       "\t<tr><td>50622160  </td><td>18        </td><td>16        </td><td>1604      </td><td> 102200020</td><td> 5558     </td><td>2012-04-01</td><td> 18       </td><td>CT        </td><td> 2        </td><td> 1.98     </td></tr>\n",
       "\t<tr><td>50622160  </td><td>18        </td><td> 9        </td><td> 970      </td><td> 103800030</td><td>62065     </td><td>2012-04-01</td><td> 21       </td><td>OZ        </td><td> 1        </td><td> 3.69     </td></tr>\n",
       "\t<tr><td>50622160  </td><td>18        </td><td> 5        </td><td> 501      </td><td>1088491282</td><td>68868     </td><td>2012-04-01</td><td> 24       </td><td>OZ        </td><td> 1        </td><td> 4.39     </td></tr>\n",
       "\t<tr><td>50622160  </td><td>18        </td><td>58        </td><td>5824      </td><td> 107778272</td><td> 9260     </td><td>2012-04-01</td><td> 14       </td><td>OZ        </td><td> 2        </td><td> 6.98     </td></tr>\n",
       "\t<tr><td>50622160  </td><td>18        </td><td> 5        </td><td> 519      </td><td> 103000030</td><td>14760     </td><td>2012-04-01</td><td> 15       </td><td>OZ        </td><td> 2        </td><td> 7.58     </td></tr>\n",
       "\t<tr><td>50622160  </td><td>18        </td><td> 7        </td><td> 707      </td><td> 102550020</td><td> 6550     </td><td>2012-04-01</td><td> 34       </td><td>OZ        </td><td> 1        </td><td> 8.99     </td></tr>\n",
       "\t<tr><td>50622160  </td><td>18        </td><td>49        </td><td>4901      </td><td> 101312010</td><td>26885     </td><td>2012-04-01</td><td> 30       </td><td>OZ        </td><td> 2        </td><td> 6.35     </td></tr>\n",
       "\t<tr><td>⋮</td><td>⋮</td><td>⋮</td><td>⋮</td><td>⋮</td><td>⋮</td><td>⋮</td><td>⋮</td><td>⋮</td><td>⋮</td><td>⋮</td></tr>\n",
       "\t<tr><td>50622160  </td><td>18        </td><td>26        </td><td>2633      </td><td>102113020 </td><td>30626     </td><td>2013-01-14</td><td> 12       </td><td>RL        </td><td>1         </td><td> 7.49     </td></tr>\n",
       "\t<tr><td>50622160  </td><td>18        </td><td>25        </td><td>2506      </td><td>104127141 </td><td>26189     </td><td>2013-01-14</td><td> 32       </td><td>OZ        </td><td>1         </td><td> 2.99     </td></tr>\n",
       "\t<tr><td>50622160  </td><td>18        </td><td>26        </td><td>2622      </td><td>102113020 </td><td>15704     </td><td>2013-01-14</td><td> 20       </td><td>CT        </td><td>1         </td><td> 2.79     </td></tr>\n",
       "\t<tr><td>50622160  </td><td>18        </td><td> 9        </td><td> 907      </td><td>107222070 </td><td> 6669     </td><td>2013-01-14</td><td> 26       </td><td>OZ        </td><td>2         </td><td> 6.99     </td></tr>\n",
       "\t<tr><td>50622160  </td><td>18        </td><td>27        </td><td>2704      </td><td>107910070 </td><td>85180     </td><td>2013-01-14</td><td>  7       </td><td>OZ        </td><td>1         </td><td> 2.39     </td></tr>\n",
       "\t<tr><td>50622160  </td><td>18        </td><td>58        </td><td>5812      </td><td>101590010 </td><td> 1366     </td><td>2013-01-14</td><td> 16       </td><td>OZ        </td><td>2         </td><td> 3.58     </td></tr>\n",
       "\t<tr><td>50622160  </td><td>18        </td><td> 5        </td><td> 501      </td><td>101600010 </td><td> 3331     </td><td>2013-01-14</td><td> 22       </td><td>OZ        </td><td>2         </td><td>10.58     </td></tr>\n",
       "\t<tr><td>50622160  </td><td>18        </td><td>36        </td><td>3611      </td><td>102113020 </td><td>15704     </td><td>2013-01-14</td><td>406       </td><td>OZ        </td><td>1         </td><td> 1.34     </td></tr>\n",
       "\t<tr><td>50622160  </td><td>18        </td><td>26        </td><td>2622      </td><td>102113020 </td><td>15704     </td><td>2013-01-14</td><td> 50       </td><td>CT        </td><td>1         </td><td> 3.49     </td></tr>\n",
       "\t<tr><td>50622160  </td><td>18        </td><td>63        </td><td>6320      </td><td>102113020 </td><td>10786     </td><td>2013-01-14</td><td> 18       </td><td>CT        </td><td>1         </td><td> 2.59     </td></tr>\n",
       "\t<tr><td>50622160  </td><td>18        </td><td>25        </td><td>2503      </td><td>105000050 </td><td>32115     </td><td>2013-01-14</td><td> 35       </td><td>OZ        </td><td>1         </td><td> 5.59     </td></tr>\n",
       "\t<tr><td>50622160  </td><td>18        </td><td>26        </td><td>2628      </td><td>103700030 </td><td> 2248     </td><td>2013-01-14</td><td>  2       </td><td>RL        </td><td>1         </td><td> 0.40     </td></tr>\n",
       "\t<tr><td>50622160  </td><td>18        </td><td>25        </td><td>2506      </td><td>104127141 </td><td>26189     </td><td>2013-02-19</td><td> 32       </td><td>OZ        </td><td>1         </td><td> 2.00     </td></tr>\n",
       "\t<tr><td>50622160  </td><td>18        </td><td>35        </td><td>3508      </td><td>103700030 </td><td>18371     </td><td>2013-02-19</td><td> 50       </td><td>OZ        </td><td>1         </td><td> 5.49     </td></tr>\n",
       "\t<tr><td>50622160  </td><td>18        </td><td> 5        </td><td> 501      </td><td>101600010 </td><td> 3331     </td><td>2013-02-19</td><td> 12       </td><td>OZ        </td><td>1         </td><td> 3.49     </td></tr>\n",
       "\t<tr><td>50622160  </td><td>18        </td><td>58        </td><td>5812      </td><td>101590010 </td><td> 1366     </td><td>2013-02-19</td><td> 16       </td><td>OZ        </td><td>2         </td><td> 3.58     </td></tr>\n",
       "\t<tr><td>50622160  </td><td>18        </td><td>27        </td><td>2704      </td><td>107910070 </td><td>30096     </td><td>2013-02-19</td><td> 15       </td><td>OZ        </td><td>1         </td><td> 3.94     </td></tr>\n",
       "\t<tr><td>50622160  </td><td>18        </td><td> 9        </td><td> 970      </td><td>103800030 </td><td>62065     </td><td>2013-02-19</td><td> 22       </td><td>OZ        </td><td>1         </td><td> 2.50     </td></tr>\n",
       "\t<tr><td>50622160  </td><td>18        </td><td>36        </td><td>3611      </td><td>102113020 </td><td>15704     </td><td>2013-02-19</td><td>406       </td><td>OZ        </td><td>1         </td><td> 3.89     </td></tr>\n",
       "\t<tr><td>50622160  </td><td>18        </td><td> 5        </td><td> 501      </td><td>103000030 </td><td>45635     </td><td>2013-02-19</td><td> 13       </td><td>OZ        </td><td>1         </td><td> 3.99     </td></tr>\n",
       "\t<tr><td>50622160  </td><td>18        </td><td>63        </td><td>6315      </td><td>102640020 </td><td> 4584     </td><td>2013-02-19</td><td> 64       </td><td>OZ        </td><td>1         </td><td> 2.69     </td></tr>\n",
       "\t<tr><td>50622160  </td><td>18        </td><td> 9        </td><td> 907      </td><td>102113020 </td><td>15704     </td><td>2013-02-19</td><td> 24       </td><td>OZ        </td><td>2         </td><td> 3.98     </td></tr>\n",
       "\t<tr><td>50622160  </td><td>18        </td><td> 9        </td><td> 902      </td><td>104400040 </td><td>44236     </td><td>2013-02-19</td><td> 12       </td><td>OZ        </td><td>1         </td><td> 3.01     </td></tr>\n",
       "\t<tr><td>50622160  </td><td>18        </td><td>49        </td><td>4901      </td><td>102113020 </td><td>15704     </td><td>2013-02-19</td><td> 32       </td><td>OZ        </td><td>1         </td><td> 1.99     </td></tr>\n",
       "\t<tr><td>50622160  </td><td>18        </td><td>37        </td><td>3705      </td><td>105100050 </td><td> 2820     </td><td>2013-02-21</td><td> 19       </td><td>OZ        </td><td>2         </td><td> 4.59     </td></tr>\n",
       "\t<tr><td>50622160  </td><td>18        </td><td>26        </td><td>2633      </td><td>102113020 </td><td>15704     </td><td>2013-02-21</td><td> 12       </td><td>RL        </td><td>1         </td><td> 5.99     </td></tr>\n",
       "\t<tr><td>50622160  </td><td>18        </td><td>17        </td><td>1708      </td><td>102113020 </td><td>15704     </td><td>2013-02-21</td><td> 24       </td><td>OZ        </td><td>1         </td><td> 1.79     </td></tr>\n",
       "\t<tr><td>50622160  </td><td>18        </td><td>18        </td><td>1827      </td><td>104650040 </td><td> 7249     </td><td>2013-02-21</td><td>  8       </td><td>OZ        </td><td>2         </td><td> 1.99     </td></tr>\n",
       "\t<tr><td>50622160  </td><td>18        </td><td>26        </td><td>2628      </td><td>102113020 </td><td>15704     </td><td>2013-02-21</td><td>  6       </td><td>RL        </td><td>1         </td><td> 5.99     </td></tr>\n",
       "\t<tr><td>50622160  </td><td>18        </td><td>34        </td><td>3410      </td><td>107418272 </td><td>16853     </td><td>2013-02-21</td><td>  8       </td><td>OZ        </td><td>2         </td><td> 1.58     </td></tr>\n",
       "</tbody>\n",
       "</table>\n"
      ],
      "text/latex": [
       "\\begin{tabular}{r|lllllllllll}\n",
       " Id & chain & dept & category & company & brand & date & productsize & productmeasure & purchasequantity & purchaseamount\\\\\n",
       "\\hline\n",
       "\t 50622160   & 18         & 26         & 2622       &  102113020 & 15704      & 2012-03-08 &  40        & CT         &  1         &  3.19     \\\\\n",
       "\t 50622160   & 18         &  2         &  202       &  101600010 &  1756      & 2012-03-08 &  18        & OZ         &  2         &  4.50     \\\\\n",
       "\t 50622160   & 18         & 26         & 2622       &  102113020 & 15704      & 2012-03-08 &  30        & CT         &  1         &  3.19     \\\\\n",
       "\t 50622160   & 18         & 27         & 2704       &  107910070 & 30096      & 2012-03-08 &  24        & OZ         &  1         &  4.99     \\\\\n",
       "\t 50622160   & 18         & 25         & 2506       &  102113020 & 10786      & 2012-03-08 &  32        & OZ         &  1         &  2.30     \\\\\n",
       "\t 50622160   & 18         & 37         & 3708       & 1076026373 &  1537      & 2012-03-08 &  12        & OZ         &  1         &  4.49     \\\\\n",
       "\t 50622160   & 18         & 37         & 3708       & 1076026373 &  1537      & 2012-03-08 &   9        & OZ         &  1         &  0.00     \\\\\n",
       "\t 50622160   & 18         &  5         &  519       &  103000030 & 14760      & 2012-03-08 &  15        & OZ         &  1         &  3.49     \\\\\n",
       "\t 50622160   & 18         &  9         &  907       &  102113020 & 15704      & 2012-03-08 &  24        & OZ         &  2         &  4.00     \\\\\n",
       "\t 50622160   & 18         & 92         & 9208       &  102764828 &  7487      & 2012-03-15 &   1        & CT         &  1         &  3.49     \\\\\n",
       "\t 50622160   & 18         & 92         & 9208       &  101311414 &   174      & 2012-03-15 &   1        & CT         &  1         &  2.49     \\\\\n",
       "\t 50622160   & 18         & 26         & 2634       &  103600030 &  4139      & 2012-03-15 &  12        & RL         &  2         & 12.98     \\\\\n",
       "\t 50622160   & 18         & 95         & 9518       & 1061029060 &  7848      & 2012-03-15 &   1        & CT         &  1         &  2.99     \\\\\n",
       "\t 50622160   & 18         & 95         & 9518       & 1061029060 &  6015      & 2012-03-15 &   1        & CT         &  1         &  2.99     \\\\\n",
       "\t 50622160   & 18         & 69         & 6901       &  101204414 & 13056      & 2012-03-15 &   3        & OZ         &  2         &  5.98     \\\\\n",
       "\t 50622160   & 18         & 34         & 3411       &  103700030 & 13056      & 2012-03-15 &  18        & OZ         &  1         &  3.49     \\\\\n",
       "\t 50622160   & 18         & 26         & 2632       &  103600030 &  8583      & 2012-03-15 & 216        & CT         &  1         &  6.99     \\\\\n",
       "\t 50622160   & 18         &  9         &  921       &  104500040 &  8511      & 2012-03-25 &   5        & OZ         &  3         &  3.69     \\\\\n",
       "\t 50622160   & 18         & 99         & 9909       &  107127979 &  6732      & 2012-03-25 &  12        & OZ         &  2         &  0.01     \\\\\n",
       "\t 50622160   & 18         & 30         & 3007       &  107766171 & 10562      & 2012-03-25 &  13        & OZ         &  2         &  6.30     \\\\\n",
       "\t 50622160   & 18         & 25         & 2506       &  105000050 & 32115      & 2012-04-01 &  32        & OZ         &  1         &  3.69     \\\\\n",
       "\t 50622160   & 18         &  9         &  922       &  104500040 &  8511      & 2012-04-01 &  17        & OZ         &  2         &  5.98     \\\\\n",
       "\t 50622160   & 18         & 57         & 5705       &  107047070 & 20230      & 2012-04-01 &   6        & OZ         & 10         &  6.00     \\\\\n",
       "\t 50622160   & 18         & 16         & 1604       &  102200020 &  5558      & 2012-04-01 &  18        & CT         &  2         &  1.98     \\\\\n",
       "\t 50622160   & 18         &  9         &  970       &  103800030 & 62065      & 2012-04-01 &  21        & OZ         &  1         &  3.69     \\\\\n",
       "\t 50622160   & 18         &  5         &  501       & 1088491282 & 68868      & 2012-04-01 &  24        & OZ         &  1         &  4.39     \\\\\n",
       "\t 50622160   & 18         & 58         & 5824       &  107778272 &  9260      & 2012-04-01 &  14        & OZ         &  2         &  6.98     \\\\\n",
       "\t 50622160   & 18         &  5         &  519       &  103000030 & 14760      & 2012-04-01 &  15        & OZ         &  2         &  7.58     \\\\\n",
       "\t 50622160   & 18         &  7         &  707       &  102550020 &  6550      & 2012-04-01 &  34        & OZ         &  1         &  8.99     \\\\\n",
       "\t 50622160   & 18         & 49         & 4901       &  101312010 & 26885      & 2012-04-01 &  30        & OZ         &  2         &  6.35     \\\\\n",
       "\t ⋮ & ⋮ & ⋮ & ⋮ & ⋮ & ⋮ & ⋮ & ⋮ & ⋮ & ⋮ & ⋮\\\\\n",
       "\t 50622160   & 18         & 26         & 2633       & 102113020  & 30626      & 2013-01-14 &  12        & RL         & 1          &  7.49     \\\\\n",
       "\t 50622160   & 18         & 25         & 2506       & 104127141  & 26189      & 2013-01-14 &  32        & OZ         & 1          &  2.99     \\\\\n",
       "\t 50622160   & 18         & 26         & 2622       & 102113020  & 15704      & 2013-01-14 &  20        & CT         & 1          &  2.79     \\\\\n",
       "\t 50622160   & 18         &  9         &  907       & 107222070  &  6669      & 2013-01-14 &  26        & OZ         & 2          &  6.99     \\\\\n",
       "\t 50622160   & 18         & 27         & 2704       & 107910070  & 85180      & 2013-01-14 &   7        & OZ         & 1          &  2.39     \\\\\n",
       "\t 50622160   & 18         & 58         & 5812       & 101590010  &  1366      & 2013-01-14 &  16        & OZ         & 2          &  3.58     \\\\\n",
       "\t 50622160   & 18         &  5         &  501       & 101600010  &  3331      & 2013-01-14 &  22        & OZ         & 2          & 10.58     \\\\\n",
       "\t 50622160   & 18         & 36         & 3611       & 102113020  & 15704      & 2013-01-14 & 406        & OZ         & 1          &  1.34     \\\\\n",
       "\t 50622160   & 18         & 26         & 2622       & 102113020  & 15704      & 2013-01-14 &  50        & CT         & 1          &  3.49     \\\\\n",
       "\t 50622160   & 18         & 63         & 6320       & 102113020  & 10786      & 2013-01-14 &  18        & CT         & 1          &  2.59     \\\\\n",
       "\t 50622160   & 18         & 25         & 2503       & 105000050  & 32115      & 2013-01-14 &  35        & OZ         & 1          &  5.59     \\\\\n",
       "\t 50622160   & 18         & 26         & 2628       & 103700030  &  2248      & 2013-01-14 &   2        & RL         & 1          &  0.40     \\\\\n",
       "\t 50622160   & 18         & 25         & 2506       & 104127141  & 26189      & 2013-02-19 &  32        & OZ         & 1          &  2.00     \\\\\n",
       "\t 50622160   & 18         & 35         & 3508       & 103700030  & 18371      & 2013-02-19 &  50        & OZ         & 1          &  5.49     \\\\\n",
       "\t 50622160   & 18         &  5         &  501       & 101600010  &  3331      & 2013-02-19 &  12        & OZ         & 1          &  3.49     \\\\\n",
       "\t 50622160   & 18         & 58         & 5812       & 101590010  &  1366      & 2013-02-19 &  16        & OZ         & 2          &  3.58     \\\\\n",
       "\t 50622160   & 18         & 27         & 2704       & 107910070  & 30096      & 2013-02-19 &  15        & OZ         & 1          &  3.94     \\\\\n",
       "\t 50622160   & 18         &  9         &  970       & 103800030  & 62065      & 2013-02-19 &  22        & OZ         & 1          &  2.50     \\\\\n",
       "\t 50622160   & 18         & 36         & 3611       & 102113020  & 15704      & 2013-02-19 & 406        & OZ         & 1          &  3.89     \\\\\n",
       "\t 50622160   & 18         &  5         &  501       & 103000030  & 45635      & 2013-02-19 &  13        & OZ         & 1          &  3.99     \\\\\n",
       "\t 50622160   & 18         & 63         & 6315       & 102640020  &  4584      & 2013-02-19 &  64        & OZ         & 1          &  2.69     \\\\\n",
       "\t 50622160   & 18         &  9         &  907       & 102113020  & 15704      & 2013-02-19 &  24        & OZ         & 2          &  3.98     \\\\\n",
       "\t 50622160   & 18         &  9         &  902       & 104400040  & 44236      & 2013-02-19 &  12        & OZ         & 1          &  3.01     \\\\\n",
       "\t 50622160   & 18         & 49         & 4901       & 102113020  & 15704      & 2013-02-19 &  32        & OZ         & 1          &  1.99     \\\\\n",
       "\t 50622160   & 18         & 37         & 3705       & 105100050  &  2820      & 2013-02-21 &  19        & OZ         & 2          &  4.59     \\\\\n",
       "\t 50622160   & 18         & 26         & 2633       & 102113020  & 15704      & 2013-02-21 &  12        & RL         & 1          &  5.99     \\\\\n",
       "\t 50622160   & 18         & 17         & 1708       & 102113020  & 15704      & 2013-02-21 &  24        & OZ         & 1          &  1.79     \\\\\n",
       "\t 50622160   & 18         & 18         & 1827       & 104650040  &  7249      & 2013-02-21 &   8        & OZ         & 2          &  1.99     \\\\\n",
       "\t 50622160   & 18         & 26         & 2628       & 102113020  & 15704      & 2013-02-21 &   6        & RL         & 1          &  5.99     \\\\\n",
       "\t 50622160   & 18         & 34         & 3410       & 107418272  & 16853      & 2013-02-21 &   8        & OZ         & 2          &  1.58     \\\\\n",
       "\\end{tabular}\n"
      ],
      "text/plain": [
       "    Id       chain dept category company    brand date       productsize\n",
       "1   50622160 18    26   2622      102113020 15704 2012-03-08  40        \n",
       "2   50622160 18     2    202      101600010  1756 2012-03-08  18        \n",
       "3   50622160 18    26   2622      102113020 15704 2012-03-08  30        \n",
       "4   50622160 18    27   2704      107910070 30096 2012-03-08  24        \n",
       "5   50622160 18    25   2506      102113020 10786 2012-03-08  32        \n",
       "6   50622160 18    37   3708     1076026373  1537 2012-03-08  12        \n",
       "7   50622160 18    37   3708     1076026373  1537 2012-03-08   9        \n",
       "8   50622160 18     5    519      103000030 14760 2012-03-08  15        \n",
       "9   50622160 18     9    907      102113020 15704 2012-03-08  24        \n",
       "10  50622160 18    92   9208      102764828  7487 2012-03-15   1        \n",
       "11  50622160 18    92   9208      101311414   174 2012-03-15   1        \n",
       "12  50622160 18    26   2634      103600030  4139 2012-03-15  12        \n",
       "13  50622160 18    95   9518     1061029060  7848 2012-03-15   1        \n",
       "14  50622160 18    95   9518     1061029060  6015 2012-03-15   1        \n",
       "15  50622160 18    69   6901      101204414 13056 2012-03-15   3        \n",
       "16  50622160 18    34   3411      103700030 13056 2012-03-15  18        \n",
       "17  50622160 18    26   2632      103600030  8583 2012-03-15 216        \n",
       "18  50622160 18     9    921      104500040  8511 2012-03-25   5        \n",
       "19  50622160 18    99   9909      107127979  6732 2012-03-25  12        \n",
       "20  50622160 18    30   3007      107766171 10562 2012-03-25  13        \n",
       "21  50622160 18    25   2506      105000050 32115 2012-04-01  32        \n",
       "22  50622160 18     9    922      104500040  8511 2012-04-01  17        \n",
       "23  50622160 18    57   5705      107047070 20230 2012-04-01   6        \n",
       "24  50622160 18    16   1604      102200020  5558 2012-04-01  18        \n",
       "25  50622160 18     9    970      103800030 62065 2012-04-01  21        \n",
       "26  50622160 18     5    501     1088491282 68868 2012-04-01  24        \n",
       "27  50622160 18    58   5824      107778272  9260 2012-04-01  14        \n",
       "28  50622160 18     5    519      103000030 14760 2012-04-01  15        \n",
       "29  50622160 18     7    707      102550020  6550 2012-04-01  34        \n",
       "30  50622160 18    49   4901      101312010 26885 2012-04-01  30        \n",
       "⋮   ⋮        ⋮     ⋮    ⋮        ⋮          ⋮     ⋮          ⋮          \n",
       "243 50622160 18    26   2633     102113020  30626 2013-01-14  12        \n",
       "244 50622160 18    25   2506     104127141  26189 2013-01-14  32        \n",
       "245 50622160 18    26   2622     102113020  15704 2013-01-14  20        \n",
       "246 50622160 18     9    907     107222070   6669 2013-01-14  26        \n",
       "247 50622160 18    27   2704     107910070  85180 2013-01-14   7        \n",
       "248 50622160 18    58   5812     101590010   1366 2013-01-14  16        \n",
       "249 50622160 18     5    501     101600010   3331 2013-01-14  22        \n",
       "250 50622160 18    36   3611     102113020  15704 2013-01-14 406        \n",
       "251 50622160 18    26   2622     102113020  15704 2013-01-14  50        \n",
       "252 50622160 18    63   6320     102113020  10786 2013-01-14  18        \n",
       "253 50622160 18    25   2503     105000050  32115 2013-01-14  35        \n",
       "254 50622160 18    26   2628     103700030   2248 2013-01-14   2        \n",
       "255 50622160 18    25   2506     104127141  26189 2013-02-19  32        \n",
       "256 50622160 18    35   3508     103700030  18371 2013-02-19  50        \n",
       "257 50622160 18     5    501     101600010   3331 2013-02-19  12        \n",
       "258 50622160 18    58   5812     101590010   1366 2013-02-19  16        \n",
       "259 50622160 18    27   2704     107910070  30096 2013-02-19  15        \n",
       "260 50622160 18     9    970     103800030  62065 2013-02-19  22        \n",
       "261 50622160 18    36   3611     102113020  15704 2013-02-19 406        \n",
       "262 50622160 18     5    501     103000030  45635 2013-02-19  13        \n",
       "263 50622160 18    63   6315     102640020   4584 2013-02-19  64        \n",
       "264 50622160 18     9    907     102113020  15704 2013-02-19  24        \n",
       "265 50622160 18     9    902     104400040  44236 2013-02-19  12        \n",
       "266 50622160 18    49   4901     102113020  15704 2013-02-19  32        \n",
       "267 50622160 18    37   3705     105100050   2820 2013-02-21  19        \n",
       "268 50622160 18    26   2633     102113020  15704 2013-02-21  12        \n",
       "269 50622160 18    17   1708     102113020  15704 2013-02-21  24        \n",
       "270 50622160 18    18   1827     104650040   7249 2013-02-21   8        \n",
       "271 50622160 18    26   2628     102113020  15704 2013-02-21   6        \n",
       "272 50622160 18    34   3410     107418272  16853 2013-02-21   8        \n",
       "    productmeasure purchasequantity purchaseamount\n",
       "1   CT              1                3.19         \n",
       "2   OZ              2                4.50         \n",
       "3   CT              1                3.19         \n",
       "4   OZ              1                4.99         \n",
       "5   OZ              1                2.30         \n",
       "6   OZ              1                4.49         \n",
       "7   OZ              1                0.00         \n",
       "8   OZ              1                3.49         \n",
       "9   OZ              2                4.00         \n",
       "10  CT              1                3.49         \n",
       "11  CT              1                2.49         \n",
       "12  RL              2               12.98         \n",
       "13  CT              1                2.99         \n",
       "14  CT              1                2.99         \n",
       "15  OZ              2                5.98         \n",
       "16  OZ              1                3.49         \n",
       "17  CT              1                6.99         \n",
       "18  OZ              3                3.69         \n",
       "19  OZ              2                0.01         \n",
       "20  OZ              2                6.30         \n",
       "21  OZ              1                3.69         \n",
       "22  OZ              2                5.98         \n",
       "23  OZ             10                6.00         \n",
       "24  CT              2                1.98         \n",
       "25  OZ              1                3.69         \n",
       "26  OZ              1                4.39         \n",
       "27  OZ              2                6.98         \n",
       "28  OZ              2                7.58         \n",
       "29  OZ              1                8.99         \n",
       "30  OZ              2                6.35         \n",
       "⋮   ⋮              ⋮                ⋮             \n",
       "243 RL             1                 7.49         \n",
       "244 OZ             1                 2.99         \n",
       "245 CT             1                 2.79         \n",
       "246 OZ             2                 6.99         \n",
       "247 OZ             1                 2.39         \n",
       "248 OZ             2                 3.58         \n",
       "249 OZ             2                10.58         \n",
       "250 OZ             1                 1.34         \n",
       "251 CT             1                 3.49         \n",
       "252 CT             1                 2.59         \n",
       "253 OZ             1                 5.59         \n",
       "254 RL             1                 0.40         \n",
       "255 OZ             1                 2.00         \n",
       "256 OZ             1                 5.49         \n",
       "257 OZ             1                 3.49         \n",
       "258 OZ             2                 3.58         \n",
       "259 OZ             1                 3.94         \n",
       "260 OZ             1                 2.50         \n",
       "261 OZ             1                 3.89         \n",
       "262 OZ             1                 3.99         \n",
       "263 OZ             1                 2.69         \n",
       "264 OZ             2                 3.98         \n",
       "265 OZ             1                 3.01         \n",
       "266 OZ             1                 1.99         \n",
       "267 OZ             2                 4.59         \n",
       "268 RL             1                 5.99         \n",
       "269 OZ             1                 1.79         \n",
       "270 OZ             2                 1.99         \n",
       "271 RL             1                 5.99         \n",
       "272 OZ             2                 1.58         "
      ]
     },
     "metadata": {},
     "output_type": "display_data"
    }
   ],
   "source": [
    "transactions[transactions$Id==50622160,]"
   ]
  },
  {
   "cell_type": "code",
   "execution_count": 111,
   "metadata": {
    "collapsed": false
   },
   "outputs": [
    {
     "data": {
      "text/html": [
       "<ol class=list-inline>\n",
       "\t<li>3197350</li>\n",
       "\t<li>11</li>\n",
       "</ol>\n"
      ],
      "text/latex": [
       "\\begin{enumerate*}\n",
       "\\item 3197350\n",
       "\\item 11\n",
       "\\end{enumerate*}\n"
      ],
      "text/markdown": [
       "1. 3197350\n",
       "2. 11\n",
       "\n",
       "\n"
      ],
      "text/plain": [
       "[1] 3197350      11"
      ]
     },
     "metadata": {},
     "output_type": "display_data"
    }
   ],
   "source": [
    "dim(transactions[transactions$date >= as.Date('2013-03-01'), ])"
   ]
  },
  {
   "cell_type": "code",
   "execution_count": 108,
   "metadata": {
    "collapsed": false
   },
   "outputs": [
    {
     "data": {
      "text/html": [
       "<ol class=list-inline>\n",
       "\t<li>19498592</li>\n",
       "\t<li>11</li>\n",
       "</ol>\n"
      ],
      "text/latex": [
       "\\begin{enumerate*}\n",
       "\\item 19498592\n",
       "\\item 11\n",
       "\\end{enumerate*}\n"
      ],
      "text/markdown": [
       "1. 19498592\n",
       "2. 11\n",
       "\n",
       "\n"
      ],
      "text/plain": [
       "[1] 19498592       11"
      ]
     },
     "metadata": {},
     "output_type": "display_data"
    }
   ],
   "source": [
    "dim(transactions)"
   ]
  },
  {
   "cell_type": "code",
   "execution_count": 109,
   "metadata": {
    "collapsed": false
   },
   "outputs": [
    {
     "data": {
      "text/html": [
       "<table>\n",
       "<thead><tr><th></th><th scope=col>Id</th><th scope=col>chain</th><th scope=col>dept</th><th scope=col>category</th><th scope=col>company</th><th scope=col>brand</th><th scope=col>date</th><th scope=col>productsize</th><th scope=col>productmeasure</th><th scope=col>purchasequantity</th><th scope=col>purchaseamount</th></tr></thead>\n",
       "<tbody>\n",
       "\t<tr><th scope=row>273</th><td>50808053  </td><td>3         </td><td>25        </td><td>2508      </td><td> 102529323</td><td>16410     </td><td>2012-03-04</td><td> 64       </td><td>OZ        </td><td> 1        </td><td>3.69      </td></tr>\n",
       "\t<tr><th scope=row>274</th><td>50808053  </td><td>3         </td><td>56        </td><td>5610      </td><td> 102113020</td><td> 4720     </td><td>2012-03-04</td><td>  4       </td><td>OZ        </td><td> 1        </td><td>4.29      </td></tr>\n",
       "\t<tr><th scope=row>275</th><td>50808053  </td><td>3         </td><td>21        </td><td>2106      </td><td> 103120030</td><td>12957     </td><td>2012-03-04</td><td>101       </td><td>OZ        </td><td> 1        </td><td>4.99      </td></tr>\n",
       "\t<tr><th scope=row>276</th><td>50808053  </td><td>3         </td><td>57        </td><td>5704      </td><td> 107047070</td><td>20230     </td><td>2012-03-04</td><td>  6       </td><td>OZ        </td><td>10        </td><td>6.00      </td></tr>\n",
       "\t<tr><th scope=row>277</th><td>50808053  </td><td>3         </td><td> 9        </td><td> 912      </td><td> 104812141</td><td>18322     </td><td>2012-03-04</td><td> 20       </td><td>OZ        </td><td> 1        </td><td>2.99      </td></tr>\n",
       "\t<tr><th scope=row>278</th><td>50808053  </td><td>3         </td><td>56        </td><td>5615      </td><td> 102113020</td><td>10786     </td><td>2012-03-04</td><td>  8       </td><td>OZ        </td><td> 1        </td><td>2.99      </td></tr>\n",
       "\t<tr><th scope=row>279</th><td>50808053  </td><td>3         </td><td>31        </td><td>3101      </td><td> 102113020</td><td>15704     </td><td>2012-03-04</td><td>  4       </td><td>OZ        </td><td> 1        </td><td>4.39      </td></tr>\n",
       "\t<tr><th scope=row>280</th><td>50808053  </td><td>3         </td><td> 9        </td><td> 902      </td><td> 107989373</td><td>29344     </td><td>2012-03-04</td><td>  8       </td><td>OZ        </td><td> 1        </td><td>3.29      </td></tr>\n",
       "\t<tr><th scope=row>281</th><td>50808053  </td><td>3         </td><td>21        </td><td>2114      </td><td> 102113020</td><td>15704     </td><td>2012-03-04</td><td> 15       </td><td>OZ        </td><td> 1        </td><td>1.99      </td></tr>\n",
       "\t<tr><th scope=row>282</th><td>50808053  </td><td>3         </td><td>63        </td><td>6321      </td><td> 104082242</td><td>15667     </td><td>2012-03-04</td><td> 10       </td><td>OZ        </td><td> 1        </td><td>2.99      </td></tr>\n",
       "\t<tr><th scope=row>283</th><td>50808053  </td><td>3         </td><td>23        </td><td>2301      </td><td> 107680878</td><td> 1393     </td><td>2012-03-04</td><td> 16       </td><td>OZ        </td><td> 1        </td><td>1.79      </td></tr>\n",
       "\t<tr><th scope=row>284</th><td>50808053  </td><td>3         </td><td>63        </td><td>6320      </td><td>1071514171</td><td>25530     </td><td>2012-03-04</td><td> 12       </td><td>CT        </td><td> 1        </td><td>3.79      </td></tr>\n",
       "\t<tr><th scope=row>285</th><td>50808053  </td><td>3         </td><td>13        </td><td>1306      </td><td> 105150050</td><td>14029     </td><td>2012-03-04</td><td>  5       </td><td>LB        </td><td> 1        </td><td>3.29      </td></tr>\n",
       "\t<tr><th scope=row>286</th><td>50808053  </td><td>3         </td><td>63        </td><td>6305      </td><td> 102500020</td><td>16489     </td><td>2012-03-04</td><td> 59       </td><td>OZ        </td><td> 1        </td><td>3.79      </td></tr>\n",
       "\t<tr><th scope=row>287</th><td>50808053  </td><td>3         </td><td>58        </td><td>5826      </td><td> 107187171</td><td>13310     </td><td>2012-03-04</td><td> 12       </td><td>OZ        </td><td> 1        </td><td>2.49      </td></tr>\n",
       "\t<tr><th scope=row>288</th><td>50808053  </td><td>3         </td><td>99        </td><td>9908      </td><td> 102113020</td><td>15704     </td><td>2012-03-04</td><td> 15       </td><td>OZ        </td><td> 1        </td><td>4.99      </td></tr>\n",
       "\t<tr><th scope=row>289</th><td>50808053  </td><td>3         </td><td>32        </td><td>3202      </td><td> 105150050</td><td> 4307     </td><td>2012-03-04</td><td> 48       </td><td>OZ        </td><td> 1        </td><td>5.99      </td></tr>\n",
       "\t<tr><th scope=row>290</th><td>50808053  </td><td>3         </td><td>59        </td><td>5902      </td><td> 103450030</td><td>10165     </td><td>2012-03-04</td><td>  8       </td><td>OZ        </td><td> 1        </td><td>2.99      </td></tr>\n",
       "\t<tr><th scope=row>291</th><td>50808053  </td><td>3         </td><td> 5        </td><td> 517      </td><td> 103800030</td><td>69260     </td><td>2012-03-04</td><td> 10       </td><td>OZ        </td><td> 1        </td><td>1.99      </td></tr>\n",
       "\t<tr><th scope=row>292</th><td>50808053  </td><td>3         </td><td>58        </td><td>5831      </td><td> 103927232</td><td>26234     </td><td>2012-03-04</td><td> 20       </td><td>OZ        </td><td> 1        </td><td>6.29      </td></tr>\n",
       "\t<tr><th scope=row>293</th><td>50808053  </td><td>3         </td><td> 5        </td><td> 516      </td><td> 103000030</td><td>14760     </td><td>2012-03-04</td><td>  7       </td><td>OZ        </td><td> 1        </td><td>3.49      </td></tr>\n",
       "\t<tr><th scope=row>294</th><td>50808053  </td><td>3         </td><td>99        </td><td>9901      </td><td> 107989373</td><td>12908     </td><td>2012-03-11</td><td>  1       </td><td>OZ        </td><td> 1        </td><td>1.99      </td></tr>\n",
       "\t<tr><th scope=row>295</th><td>50808053  </td><td>3         </td><td> 9        </td><td> 907      </td><td> 107341070</td><td> 2437     </td><td>2012-03-11</td><td> 24       </td><td>OZ        </td><td> 1        </td><td>4.29      </td></tr>\n",
       "\t<tr><th scope=row>296</th><td>50808053  </td><td>3         </td><td>31        </td><td>3101      </td><td> 102113020</td><td>15704     </td><td>2012-03-18</td><td>  3       </td><td>OZ        </td><td> 1        </td><td>7.88      </td></tr>\n",
       "\t<tr><th scope=row>297</th><td>50808053  </td><td>3         </td><td>31        </td><td>3101      </td><td> 105210050</td><td>11382     </td><td>2012-03-18</td><td>  1       </td><td>OZ        </td><td> 1        </td><td>2.10      </td></tr>\n",
       "\t<tr><th scope=row>298</th><td>50808053  </td><td>3         </td><td> 5        </td><td> 501      </td><td> 101600010</td><td> 3331     </td><td>2012-03-18</td><td> 22       </td><td>OZ        </td><td> 1        </td><td>4.99      </td></tr>\n",
       "\t<tr><th scope=row>299</th><td>50808053  </td><td>3         </td><td>31        </td><td>3101      </td><td> 105210050</td><td>11382     </td><td>2012-03-18</td><td>  1       </td><td>OZ        </td><td> 1        </td><td>0.00      </td></tr>\n",
       "\t<tr><th scope=row>300</th><td>50808053  </td><td>3         </td><td> 8        </td><td> 802      </td><td> 101300010</td><td> 8164     </td><td>2012-03-18</td><td> 12       </td><td>OZ        </td><td> 1        </td><td>2.49      </td></tr>\n",
       "\t<tr><th scope=row>301</th><td>50808053  </td><td>3         </td><td>41        </td><td>4105      </td><td> 102700020</td><td> 8612     </td><td>2012-03-18</td><td> 15       </td><td>OZ        </td><td> 4        </td><td>7.96      </td></tr>\n",
       "\t<tr><th scope=row>302</th><td>50808053  </td><td>3         </td><td>31        </td><td>3101      </td><td> 102113020</td><td>30626     </td><td>2012-03-18</td><td>  1       </td><td>OZ        </td><td> 1        </td><td>1.29      </td></tr>\n",
       "\t<tr><th scope=row>⋮</th><td>⋮</td><td>⋮</td><td>⋮</td><td>⋮</td><td>⋮</td><td>⋮</td><td>⋮</td><td>⋮</td><td>⋮</td><td>⋮</td><td>⋮</td></tr>\n",
       "\t<tr><th scope=row>146</th><td>50808053  </td><td>3         </td><td>63        </td><td>6320      </td><td>1071514171</td><td>25530     </td><td>2012-12-23</td><td> 12       </td><td>CT        </td><td>1         </td><td> 3.69     </td></tr>\n",
       "\t<tr><th scope=row>147</th><td>50808053  </td><td>3         </td><td>58        </td><td>5831      </td><td> 103927232</td><td>26234     </td><td>2012-12-23</td><td> 20       </td><td>OZ        </td><td>1         </td><td> 3.99     </td></tr>\n",
       "\t<tr><th scope=row>148</th><td>50808053  </td><td>3         </td><td>63        </td><td>6312      </td><td> 102500020</td><td>16488     </td><td>2012-12-23</td><td> 59       </td><td>OZ        </td><td>1         </td><td> 2.99     </td></tr>\n",
       "\t<tr><th scope=row>149</th><td>50808053  </td><td>3         </td><td>56        </td><td>5615      </td><td> 102113020</td><td>10786     </td><td>2012-12-23</td><td> 16       </td><td>OZ        </td><td>3         </td><td>16.47     </td></tr>\n",
       "\t<tr><th scope=row>150</th><td>50808053  </td><td>3         </td><td>56        </td><td>5615      </td><td> 102113020</td><td>10786     </td><td>2012-12-23</td><td>  8       </td><td>OZ        </td><td>3         </td><td> 8.97     </td></tr>\n",
       "\t<tr><th scope=row>151</th><td>50808053  </td><td>3         </td><td> 5        </td><td> 501      </td><td> 101600010</td><td> 3331     </td><td>2013-01-17</td><td> 22       </td><td>OZ        </td><td>1         </td><td> 4.99     </td></tr>\n",
       "\t<tr><th scope=row>152</th><td>50808053  </td><td>3         </td><td> 5        </td><td> 519      </td><td> 103000030</td><td>14760     </td><td>2013-01-17</td><td> 15       </td><td>OZ        </td><td>2         </td><td> 6.00     </td></tr>\n",
       "\t<tr><th scope=row>153</th><td>50808053  </td><td>3         </td><td>57        </td><td>5706      </td><td> 102113020</td><td>10786     </td><td>2013-01-31</td><td> 32       </td><td>OZ        </td><td>1         </td><td> 2.69     </td></tr>\n",
       "\t<tr><th scope=row>154</th><td>50808053  </td><td>3         </td><td>97        </td><td>9753      </td><td>1076163575</td><td>    0     </td><td>2013-02-07</td><td>  1       </td><td>CT        </td><td>2         </td><td> 5.98     </td></tr>\n",
       "\t<tr><th scope=row>155</th><td>50808053  </td><td>3         </td><td> 9        </td><td> 921      </td><td> 107203070</td><td> 5812     </td><td>2013-02-07</td><td>  3       </td><td>OZ        </td><td>1         </td><td> 1.25     </td></tr>\n",
       "\t<tr><th scope=row>156</th><td>50808053  </td><td>3         </td><td>99        </td><td>9909      </td><td> 107989373</td><td>12908     </td><td>2013-02-09</td><td>  5       </td><td>OZ        </td><td>1         </td><td> 3.99     </td></tr>\n",
       "\t<tr><th scope=row>157</th><td>50808053  </td><td>3         </td><td>13        </td><td>1305      </td><td> 103000030</td><td>14760     </td><td>2013-02-16</td><td> 24       </td><td>OZ        </td><td>1         </td><td> 2.19     </td></tr>\n",
       "\t<tr><th scope=row>158</th><td>50808053  </td><td>3         </td><td>38        </td><td>3801      </td><td> 104920040</td><td> 5098     </td><td>2013-02-16</td><td>  4       </td><td>LB        </td><td>1         </td><td> 2.99     </td></tr>\n",
       "\t<tr><th scope=row>159</th><td>50808053  </td><td>3         </td><td>21        </td><td>2106      </td><td> 103120030</td><td>12957     </td><td>2013-02-16</td><td>101       </td><td>OZ        </td><td>1         </td><td> 4.99     </td></tr>\n",
       "\t<tr><th scope=row>160</th><td>50808053  </td><td>3         </td><td>59        </td><td>5902      </td><td> 103450030</td><td>10165     </td><td>2013-02-16</td><td> 15       </td><td>OZ        </td><td>1         </td><td> 4.49     </td></tr>\n",
       "\t<tr><th scope=row>161</th><td>50808053  </td><td>3         </td><td>99        </td><td>9908      </td><td> 102113020</td><td>15704     </td><td>2013-02-16</td><td> 32       </td><td>OZ        </td><td>1         </td><td> 9.99     </td></tr>\n",
       "\t<tr><th scope=row>162</th><td>50808053  </td><td>3         </td><td>57        </td><td>5704      </td><td> 102113020</td><td>10786     </td><td>2013-02-16</td><td>  6       </td><td>OZ        </td><td>1         </td><td> 0.60     </td></tr>\n",
       "\t<tr><th scope=row>163</th><td>50808053  </td><td>3         </td><td>97        </td><td>9753      </td><td>1023016929</td><td>    0     </td><td>2013-02-16</td><td>  1       </td><td>CT        </td><td>1         </td><td> 4.71     </td></tr>\n",
       "\t<tr><th scope=row>164</th><td>50808053  </td><td>3         </td><td>25        </td><td>2508      </td><td> 102529323</td><td>16410     </td><td>2013-02-16</td><td> 64       </td><td>OZ        </td><td>1         </td><td> 3.29     </td></tr>\n",
       "\t<tr><th scope=row>165</th><td>50808053  </td><td>3         </td><td>99        </td><td>9909      </td><td> 107989373</td><td>12908     </td><td>2013-02-16</td><td>  5       </td><td>OZ        </td><td>1         </td><td> 3.99     </td></tr>\n",
       "\t<tr><th scope=row>166</th><td>50808053  </td><td>3         </td><td> 5        </td><td> 501      </td><td> 102190828</td><td> 3073     </td><td>2013-02-16</td><td> 17       </td><td>OZ        </td><td>1         </td><td> 3.29     </td></tr>\n",
       "\t<tr><th scope=row>167</th><td>50808053  </td><td>3         </td><td> 5        </td><td> 522      </td><td> 101313010</td><td> 4253     </td><td>2013-03-04</td><td> 28       </td><td>OZ        </td><td>1         </td><td> 3.79     </td></tr>\n",
       "\t<tr><th scope=row>168</th><td>50808053  </td><td>3         </td><td>37        </td><td>3707      </td><td> 105100050</td><td>17812     </td><td>2013-03-04</td><td> 15       </td><td>OZ        </td><td>1         </td><td> 1.39     </td></tr>\n",
       "\t<tr><th scope=row>169</th><td>50808053  </td><td>3         </td><td>58        </td><td>5831      </td><td> 103927232</td><td>26234     </td><td>2013-03-04</td><td> 20       </td><td>OZ        </td><td>1         </td><td> 6.49     </td></tr>\n",
       "\t<tr><th scope=row>170</th><td>50808053  </td><td>3         </td><td>57        </td><td>5704      </td><td> 102113020</td><td>10786     </td><td>2013-03-04</td><td> 32       </td><td>OZ        </td><td>1         </td><td> 2.69     </td></tr>\n",
       "\t<tr><th scope=row>171</th><td>50808053  </td><td>3         </td><td> 5        </td><td> 520      </td><td> 103000030</td><td>14760     </td><td>2013-03-04</td><td> 42       </td><td>OZ        </td><td>1         </td><td> 2.99     </td></tr>\n",
       "\t<tr><th scope=row>172</th><td>50808053  </td><td>3         </td><td>58        </td><td>5836      </td><td> 103927232</td><td>26234     </td><td>2013-03-04</td><td> 14       </td><td>OZ        </td><td>1         </td><td> 4.99     </td></tr>\n",
       "\t<tr><th scope=row>173</th><td>50808053  </td><td>3         </td><td>41        </td><td>4105      </td><td> 102400020</td><td> 4704     </td><td>2013-03-04</td><td> 15       </td><td>OZ        </td><td>2         </td><td> 2.00     </td></tr>\n",
       "\t<tr><th scope=row>174</th><td>50808053  </td><td>3         </td><td> 9        </td><td> 903      </td><td> 104139040</td><td> 9659     </td><td>2013-03-04</td><td>  8       </td><td>OZ        </td><td>1         </td><td> 2.49     </td></tr>\n",
       "\t<tr><th scope=row>175</th><td>50808053  </td><td>3         </td><td>99        </td><td>9908      </td><td> 102113020</td><td>15704     </td><td>2013-03-04</td><td>  6       </td><td>OZ        </td><td>1         </td><td> 3.49     </td></tr>\n",
       "</tbody>\n",
       "</table>\n"
      ],
      "text/latex": [
       "\\begin{tabular}{r|lllllllllll}\n",
       "  & Id & chain & dept & category & company & brand & date & productsize & productmeasure & purchasequantity & purchaseamount\\\\\n",
       "\\hline\n",
       "\t273 & 50808053   & 3          & 25         & 2508       &  102529323 & 16410      & 2012-03-04 &  64        & OZ         &  1         & 3.69      \\\\\n",
       "\t274 & 50808053   & 3          & 56         & 5610       &  102113020 &  4720      & 2012-03-04 &   4        & OZ         &  1         & 4.29      \\\\\n",
       "\t275 & 50808053   & 3          & 21         & 2106       &  103120030 & 12957      & 2012-03-04 & 101        & OZ         &  1         & 4.99      \\\\\n",
       "\t276 & 50808053   & 3          & 57         & 5704       &  107047070 & 20230      & 2012-03-04 &   6        & OZ         & 10         & 6.00      \\\\\n",
       "\t277 & 50808053   & 3          &  9         &  912       &  104812141 & 18322      & 2012-03-04 &  20        & OZ         &  1         & 2.99      \\\\\n",
       "\t278 & 50808053   & 3          & 56         & 5615       &  102113020 & 10786      & 2012-03-04 &   8        & OZ         &  1         & 2.99      \\\\\n",
       "\t279 & 50808053   & 3          & 31         & 3101       &  102113020 & 15704      & 2012-03-04 &   4        & OZ         &  1         & 4.39      \\\\\n",
       "\t280 & 50808053   & 3          &  9         &  902       &  107989373 & 29344      & 2012-03-04 &   8        & OZ         &  1         & 3.29      \\\\\n",
       "\t281 & 50808053   & 3          & 21         & 2114       &  102113020 & 15704      & 2012-03-04 &  15        & OZ         &  1         & 1.99      \\\\\n",
       "\t282 & 50808053   & 3          & 63         & 6321       &  104082242 & 15667      & 2012-03-04 &  10        & OZ         &  1         & 2.99      \\\\\n",
       "\t283 & 50808053   & 3          & 23         & 2301       &  107680878 &  1393      & 2012-03-04 &  16        & OZ         &  1         & 1.79      \\\\\n",
       "\t284 & 50808053   & 3          & 63         & 6320       & 1071514171 & 25530      & 2012-03-04 &  12        & CT         &  1         & 3.79      \\\\\n",
       "\t285 & 50808053   & 3          & 13         & 1306       &  105150050 & 14029      & 2012-03-04 &   5        & LB         &  1         & 3.29      \\\\\n",
       "\t286 & 50808053   & 3          & 63         & 6305       &  102500020 & 16489      & 2012-03-04 &  59        & OZ         &  1         & 3.79      \\\\\n",
       "\t287 & 50808053   & 3          & 58         & 5826       &  107187171 & 13310      & 2012-03-04 &  12        & OZ         &  1         & 2.49      \\\\\n",
       "\t288 & 50808053   & 3          & 99         & 9908       &  102113020 & 15704      & 2012-03-04 &  15        & OZ         &  1         & 4.99      \\\\\n",
       "\t289 & 50808053   & 3          & 32         & 3202       &  105150050 &  4307      & 2012-03-04 &  48        & OZ         &  1         & 5.99      \\\\\n",
       "\t290 & 50808053   & 3          & 59         & 5902       &  103450030 & 10165      & 2012-03-04 &   8        & OZ         &  1         & 2.99      \\\\\n",
       "\t291 & 50808053   & 3          &  5         &  517       &  103800030 & 69260      & 2012-03-04 &  10        & OZ         &  1         & 1.99      \\\\\n",
       "\t292 & 50808053   & 3          & 58         & 5831       &  103927232 & 26234      & 2012-03-04 &  20        & OZ         &  1         & 6.29      \\\\\n",
       "\t293 & 50808053   & 3          &  5         &  516       &  103000030 & 14760      & 2012-03-04 &   7        & OZ         &  1         & 3.49      \\\\\n",
       "\t294 & 50808053   & 3          & 99         & 9901       &  107989373 & 12908      & 2012-03-11 &   1        & OZ         &  1         & 1.99      \\\\\n",
       "\t295 & 50808053   & 3          &  9         &  907       &  107341070 &  2437      & 2012-03-11 &  24        & OZ         &  1         & 4.29      \\\\\n",
       "\t296 & 50808053   & 3          & 31         & 3101       &  102113020 & 15704      & 2012-03-18 &   3        & OZ         &  1         & 7.88      \\\\\n",
       "\t297 & 50808053   & 3          & 31         & 3101       &  105210050 & 11382      & 2012-03-18 &   1        & OZ         &  1         & 2.10      \\\\\n",
       "\t298 & 50808053   & 3          &  5         &  501       &  101600010 &  3331      & 2012-03-18 &  22        & OZ         &  1         & 4.99      \\\\\n",
       "\t299 & 50808053   & 3          & 31         & 3101       &  105210050 & 11382      & 2012-03-18 &   1        & OZ         &  1         & 0.00      \\\\\n",
       "\t300 & 50808053   & 3          &  8         &  802       &  101300010 &  8164      & 2012-03-18 &  12        & OZ         &  1         & 2.49      \\\\\n",
       "\t301 & 50808053   & 3          & 41         & 4105       &  102700020 &  8612      & 2012-03-18 &  15        & OZ         &  4         & 7.96      \\\\\n",
       "\t302 & 50808053   & 3          & 31         & 3101       &  102113020 & 30626      & 2012-03-18 &   1        & OZ         &  1         & 1.29      \\\\\n",
       "\t⋮ & ⋮ & ⋮ & ⋮ & ⋮ & ⋮ & ⋮ & ⋮ & ⋮ & ⋮ & ⋮ & ⋮\\\\\n",
       "\t146 & 50808053   & 3          & 63         & 6320       & 1071514171 & 25530      & 2012-12-23 &  12        & CT         & 1          &  3.69     \\\\\n",
       "\t147 & 50808053   & 3          & 58         & 5831       &  103927232 & 26234      & 2012-12-23 &  20        & OZ         & 1          &  3.99     \\\\\n",
       "\t148 & 50808053   & 3          & 63         & 6312       &  102500020 & 16488      & 2012-12-23 &  59        & OZ         & 1          &  2.99     \\\\\n",
       "\t149 & 50808053   & 3          & 56         & 5615       &  102113020 & 10786      & 2012-12-23 &  16        & OZ         & 3          & 16.47     \\\\\n",
       "\t150 & 50808053   & 3          & 56         & 5615       &  102113020 & 10786      & 2012-12-23 &   8        & OZ         & 3          &  8.97     \\\\\n",
       "\t151 & 50808053   & 3          &  5         &  501       &  101600010 &  3331      & 2013-01-17 &  22        & OZ         & 1          &  4.99     \\\\\n",
       "\t152 & 50808053   & 3          &  5         &  519       &  103000030 & 14760      & 2013-01-17 &  15        & OZ         & 2          &  6.00     \\\\\n",
       "\t153 & 50808053   & 3          & 57         & 5706       &  102113020 & 10786      & 2013-01-31 &  32        & OZ         & 1          &  2.69     \\\\\n",
       "\t154 & 50808053   & 3          & 97         & 9753       & 1076163575 &     0      & 2013-02-07 &   1        & CT         & 2          &  5.98     \\\\\n",
       "\t155 & 50808053   & 3          &  9         &  921       &  107203070 &  5812      & 2013-02-07 &   3        & OZ         & 1          &  1.25     \\\\\n",
       "\t156 & 50808053   & 3          & 99         & 9909       &  107989373 & 12908      & 2013-02-09 &   5        & OZ         & 1          &  3.99     \\\\\n",
       "\t157 & 50808053   & 3          & 13         & 1305       &  103000030 & 14760      & 2013-02-16 &  24        & OZ         & 1          &  2.19     \\\\\n",
       "\t158 & 50808053   & 3          & 38         & 3801       &  104920040 &  5098      & 2013-02-16 &   4        & LB         & 1          &  2.99     \\\\\n",
       "\t159 & 50808053   & 3          & 21         & 2106       &  103120030 & 12957      & 2013-02-16 & 101        & OZ         & 1          &  4.99     \\\\\n",
       "\t160 & 50808053   & 3          & 59         & 5902       &  103450030 & 10165      & 2013-02-16 &  15        & OZ         & 1          &  4.49     \\\\\n",
       "\t161 & 50808053   & 3          & 99         & 9908       &  102113020 & 15704      & 2013-02-16 &  32        & OZ         & 1          &  9.99     \\\\\n",
       "\t162 & 50808053   & 3          & 57         & 5704       &  102113020 & 10786      & 2013-02-16 &   6        & OZ         & 1          &  0.60     \\\\\n",
       "\t163 & 50808053   & 3          & 97         & 9753       & 1023016929 &     0      & 2013-02-16 &   1        & CT         & 1          &  4.71     \\\\\n",
       "\t164 & 50808053   & 3          & 25         & 2508       &  102529323 & 16410      & 2013-02-16 &  64        & OZ         & 1          &  3.29     \\\\\n",
       "\t165 & 50808053   & 3          & 99         & 9909       &  107989373 & 12908      & 2013-02-16 &   5        & OZ         & 1          &  3.99     \\\\\n",
       "\t166 & 50808053   & 3          &  5         &  501       &  102190828 &  3073      & 2013-02-16 &  17        & OZ         & 1          &  3.29     \\\\\n",
       "\t167 & 50808053   & 3          &  5         &  522       &  101313010 &  4253      & 2013-03-04 &  28        & OZ         & 1          &  3.79     \\\\\n",
       "\t168 & 50808053   & 3          & 37         & 3707       &  105100050 & 17812      & 2013-03-04 &  15        & OZ         & 1          &  1.39     \\\\\n",
       "\t169 & 50808053   & 3          & 58         & 5831       &  103927232 & 26234      & 2013-03-04 &  20        & OZ         & 1          &  6.49     \\\\\n",
       "\t170 & 50808053   & 3          & 57         & 5704       &  102113020 & 10786      & 2013-03-04 &  32        & OZ         & 1          &  2.69     \\\\\n",
       "\t171 & 50808053   & 3          &  5         &  520       &  103000030 & 14760      & 2013-03-04 &  42        & OZ         & 1          &  2.99     \\\\\n",
       "\t172 & 50808053   & 3          & 58         & 5836       &  103927232 & 26234      & 2013-03-04 &  14        & OZ         & 1          &  4.99     \\\\\n",
       "\t173 & 50808053   & 3          & 41         & 4105       &  102400020 &  4704      & 2013-03-04 &  15        & OZ         & 2          &  2.00     \\\\\n",
       "\t174 & 50808053   & 3          &  9         &  903       &  104139040 &  9659      & 2013-03-04 &   8        & OZ         & 1          &  2.49     \\\\\n",
       "\t175 & 50808053   & 3          & 99         & 9908       &  102113020 & 15704      & 2013-03-04 &   6        & OZ         & 1          &  3.49     \\\\\n",
       "\\end{tabular}\n"
      ],
      "text/plain": [
       "    Id       chain dept category company    brand date       productsize\n",
       "273 50808053 3     25   2508      102529323 16410 2012-03-04  64        \n",
       "274 50808053 3     56   5610      102113020  4720 2012-03-04   4        \n",
       "275 50808053 3     21   2106      103120030 12957 2012-03-04 101        \n",
       "276 50808053 3     57   5704      107047070 20230 2012-03-04   6        \n",
       "277 50808053 3      9    912      104812141 18322 2012-03-04  20        \n",
       "278 50808053 3     56   5615      102113020 10786 2012-03-04   8        \n",
       "279 50808053 3     31   3101      102113020 15704 2012-03-04   4        \n",
       "280 50808053 3      9    902      107989373 29344 2012-03-04   8        \n",
       "281 50808053 3     21   2114      102113020 15704 2012-03-04  15        \n",
       "282 50808053 3     63   6321      104082242 15667 2012-03-04  10        \n",
       "283 50808053 3     23   2301      107680878  1393 2012-03-04  16        \n",
       "284 50808053 3     63   6320     1071514171 25530 2012-03-04  12        \n",
       "285 50808053 3     13   1306      105150050 14029 2012-03-04   5        \n",
       "286 50808053 3     63   6305      102500020 16489 2012-03-04  59        \n",
       "287 50808053 3     58   5826      107187171 13310 2012-03-04  12        \n",
       "288 50808053 3     99   9908      102113020 15704 2012-03-04  15        \n",
       "289 50808053 3     32   3202      105150050  4307 2012-03-04  48        \n",
       "290 50808053 3     59   5902      103450030 10165 2012-03-04   8        \n",
       "291 50808053 3      5    517      103800030 69260 2012-03-04  10        \n",
       "292 50808053 3     58   5831      103927232 26234 2012-03-04  20        \n",
       "293 50808053 3      5    516      103000030 14760 2012-03-04   7        \n",
       "294 50808053 3     99   9901      107989373 12908 2012-03-11   1        \n",
       "295 50808053 3      9    907      107341070  2437 2012-03-11  24        \n",
       "296 50808053 3     31   3101      102113020 15704 2012-03-18   3        \n",
       "297 50808053 3     31   3101      105210050 11382 2012-03-18   1        \n",
       "298 50808053 3      5    501      101600010  3331 2012-03-18  22        \n",
       "299 50808053 3     31   3101      105210050 11382 2012-03-18   1        \n",
       "300 50808053 3      8    802      101300010  8164 2012-03-18  12        \n",
       "301 50808053 3     41   4105      102700020  8612 2012-03-18  15        \n",
       "302 50808053 3     31   3101      102113020 30626 2012-03-18   1        \n",
       "⋮   ⋮        ⋮     ⋮    ⋮        ⋮          ⋮     ⋮          ⋮          \n",
       "146 50808053 3     63   6320     1071514171 25530 2012-12-23  12        \n",
       "147 50808053 3     58   5831      103927232 26234 2012-12-23  20        \n",
       "148 50808053 3     63   6312      102500020 16488 2012-12-23  59        \n",
       "149 50808053 3     56   5615      102113020 10786 2012-12-23  16        \n",
       "150 50808053 3     56   5615      102113020 10786 2012-12-23   8        \n",
       "151 50808053 3      5    501      101600010  3331 2013-01-17  22        \n",
       "152 50808053 3      5    519      103000030 14760 2013-01-17  15        \n",
       "153 50808053 3     57   5706      102113020 10786 2013-01-31  32        \n",
       "154 50808053 3     97   9753     1076163575     0 2013-02-07   1        \n",
       "155 50808053 3      9    921      107203070  5812 2013-02-07   3        \n",
       "156 50808053 3     99   9909      107989373 12908 2013-02-09   5        \n",
       "157 50808053 3     13   1305      103000030 14760 2013-02-16  24        \n",
       "158 50808053 3     38   3801      104920040  5098 2013-02-16   4        \n",
       "159 50808053 3     21   2106      103120030 12957 2013-02-16 101        \n",
       "160 50808053 3     59   5902      103450030 10165 2013-02-16  15        \n",
       "161 50808053 3     99   9908      102113020 15704 2013-02-16  32        \n",
       "162 50808053 3     57   5704      102113020 10786 2013-02-16   6        \n",
       "163 50808053 3     97   9753     1023016929     0 2013-02-16   1        \n",
       "164 50808053 3     25   2508      102529323 16410 2013-02-16  64        \n",
       "165 50808053 3     99   9909      107989373 12908 2013-02-16   5        \n",
       "166 50808053 3      5    501      102190828  3073 2013-02-16  17        \n",
       "167 50808053 3      5    522      101313010  4253 2013-03-04  28        \n",
       "168 50808053 3     37   3707      105100050 17812 2013-03-04  15        \n",
       "169 50808053 3     58   5831      103927232 26234 2013-03-04  20        \n",
       "170 50808053 3     57   5704      102113020 10786 2013-03-04  32        \n",
       "171 50808053 3      5    520      103000030 14760 2013-03-04  42        \n",
       "172 50808053 3     58   5836      103927232 26234 2013-03-04  14        \n",
       "173 50808053 3     41   4105      102400020  4704 2013-03-04  15        \n",
       "174 50808053 3      9    903      104139040  9659 2013-03-04   8        \n",
       "175 50808053 3     99   9908      102113020 15704 2013-03-04   6        \n",
       "    productmeasure purchasequantity purchaseamount\n",
       "273 OZ              1               3.69          \n",
       "274 OZ              1               4.29          \n",
       "275 OZ              1               4.99          \n",
       "276 OZ             10               6.00          \n",
       "277 OZ              1               2.99          \n",
       "278 OZ              1               2.99          \n",
       "279 OZ              1               4.39          \n",
       "280 OZ              1               3.29          \n",
       "281 OZ              1               1.99          \n",
       "282 OZ              1               2.99          \n",
       "283 OZ              1               1.79          \n",
       "284 CT              1               3.79          \n",
       "285 LB              1               3.29          \n",
       "286 OZ              1               3.79          \n",
       "287 OZ              1               2.49          \n",
       "288 OZ              1               4.99          \n",
       "289 OZ              1               5.99          \n",
       "290 OZ              1               2.99          \n",
       "291 OZ              1               1.99          \n",
       "292 OZ              1               6.29          \n",
       "293 OZ              1               3.49          \n",
       "294 OZ              1               1.99          \n",
       "295 OZ              1               4.29          \n",
       "296 OZ              1               7.88          \n",
       "297 OZ              1               2.10          \n",
       "298 OZ              1               4.99          \n",
       "299 OZ              1               0.00          \n",
       "300 OZ              1               2.49          \n",
       "301 OZ              4               7.96          \n",
       "302 OZ              1               1.29          \n",
       "⋮   ⋮              ⋮                ⋮             \n",
       "146 CT             1                 3.69         \n",
       "147 OZ             1                 3.99         \n",
       "148 OZ             1                 2.99         \n",
       "149 OZ             3                16.47         \n",
       "150 OZ             3                 8.97         \n",
       "151 OZ             1                 4.99         \n",
       "152 OZ             2                 6.00         \n",
       "153 OZ             1                 2.69         \n",
       "154 CT             2                 5.98         \n",
       "155 OZ             1                 1.25         \n",
       "156 OZ             1                 3.99         \n",
       "157 OZ             1                 2.19         \n",
       "158 LB             1                 2.99         \n",
       "159 OZ             1                 4.99         \n",
       "160 OZ             1                 4.49         \n",
       "161 OZ             1                 9.99         \n",
       "162 OZ             1                 0.60         \n",
       "163 CT             1                 4.71         \n",
       "164 OZ             1                 3.29         \n",
       "165 OZ             1                 3.99         \n",
       "166 OZ             1                 3.29         \n",
       "167 OZ             1                 3.79         \n",
       "168 OZ             1                 1.39         \n",
       "169 OZ             1                 6.49         \n",
       "170 OZ             1                 2.69         \n",
       "171 OZ             1                 2.99         \n",
       "172 OZ             1                 4.99         \n",
       "173 OZ             2                 2.00         \n",
       "174 OZ             1                 2.49         \n",
       "175 OZ             1                 3.49         "
      ]
     },
     "metadata": {},
     "output_type": "display_data"
    }
   ],
   "source": [
    "transactions[transactions$Id==50808053,]"
   ]
  },
  {
   "cell_type": "code",
   "execution_count": 134,
   "metadata": {
    "collapsed": false
   },
   "outputs": [
    {
     "data": {
      "text/html": [
       "15401"
      ],
      "text/latex": [
       "15401"
      ],
      "text/markdown": [
       "15401"
      ],
      "text/plain": [
       "[1] 15401"
      ]
     },
     "metadata": {},
     "output_type": "display_data"
    }
   ],
   "source": [
    "min(sapply(1:1000, function(x) as.Date(min(transactions$date[transactions$Id == trainHistory$Id[x]]), origin = \"1970-01-01\")))"
   ]
  },
  {
   "cell_type": "code",
   "execution_count": 117,
   "metadata": {
    "collapsed": false
   },
   "outputs": [
    {
     "data": {
      "text/plain": [
       "[1] \"2012-03-08\" \"2012-03-08\" \"2012-03-08\" \"2012-03-08\" \"2012-03-08\"\n",
       "[6] \"2012-03-08\""
      ]
     },
     "metadata": {},
     "output_type": "display_data"
    }
   ],
   "source": [
    "head(transactions$date)"
   ]
  },
  {
   "cell_type": "code",
   "execution_count": 118,
   "metadata": {
    "collapsed": false
   },
   "outputs": [
    {
     "data": {
      "text/plain": [
       "[1] \"2012-03-02\""
      ]
     },
     "metadata": {},
     "output_type": "display_data"
    }
   ],
   "source": [
    "head(min(transactions$date))"
   ]
  },
  {
   "cell_type": "code",
   "execution_count": 132,
   "metadata": {
    "collapsed": false
   },
   "outputs": [
    {
     "data": {
      "text/plain": [
       "[1] \"2012-03-02\""
      ]
     },
     "metadata": {},
     "output_type": "display_data"
    }
   ],
   "source": [
    "as.Date(15401, origin = \"1970-01-01\")"
   ]
  },
  {
   "cell_type": "code",
   "execution_count": 135,
   "metadata": {
    "collapsed": false
   },
   "outputs": [
    {
     "data": {
      "text/html": [
       "7800"
      ],
      "text/latex": [
       "7800"
      ],
      "text/markdown": [
       "7800"
      ],
      "text/plain": [
       "[1] 7800"
      ]
     },
     "metadata": {},
     "output_type": "display_data"
    }
   ],
   "source": [
    "nrow(trainHistory)"
   ]
  },
  {
   "cell_type": "code",
   "execution_count": null,
   "metadata": {
    "collapsed": true
   },
   "outputs": [],
   "source": []
  }
 ],
 "metadata": {
  "kernelspec": {
   "display_name": "R",
   "language": "R",
   "name": "ir"
  },
  "language_info": {
   "codemirror_mode": "r",
   "file_extension": ".r",
   "mimetype": "text/x-r-source",
   "name": "R",
   "pygments_lexer": "r",
   "version": "3.3.1"
  }
 },
 "nbformat": 4,
 "nbformat_minor": 1
}
